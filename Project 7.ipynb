{
 "cells": [
  {
   "cell_type": "markdown",
   "metadata": {
    "pycharm": {
     "name": "#%% md\n"
    }
   },
   "source": [
    "\n",
    "## Project 7 - Email Spam Classification\n",
    "\n",
    "### Project Objectives\n",
    "\n",
    "- Feature engineering\n",
    "- Using sklearn to build simple and more complex linear models\n",
    "- Identifying informative variables through EDA\n",
    "- Classification using logistic regression\n",
    "- Classification metrics"
   ]
  },
  {
   "cell_type": "markdown",
   "metadata": {
    "pycharm": {
     "name": "#%% md\n"
    }
   },
   "source": [
    "## Setup Notebook"
   ]
  },
  {
   "cell_type": "code",
   "execution_count": 2,
   "metadata": {
    "pycharm": {
     "name": "#%%\n"
    }
   },
   "outputs": [],
   "source": [
    "# Import 3rd party libraries\n",
    "import numpy as np\n",
    "import pandas as pd\n",
    "import seaborn as sns\n",
    "import matplotlib.pyplot as plt\n",
    "\n",
    "# Import local libraries\n",
    "from threshold_prediction_plot import threshold_prediction_plot, sigmoid\n",
    "\n",
    "# Configure Notebook\n",
    "%matplotlib inline\n",
    "plt.style.use('fivethirtyeight')\n",
    "sns.set_context(\"notebook\")\n",
    "import warnings\n",
    "warnings.filterwarnings('ignore')"
   ]
  },
  {
   "cell_type": "markdown",
   "metadata": {
    "pycharm": {
     "name": "#%% md\n"
    }
   },
   "source": [
    "# Overview"
   ]
  },
  {
   "cell_type": "markdown",
   "metadata": {
    "pycharm": {
     "name": "#%% md\n"
    }
   },
   "source": [
    "Have you ever wondered how Google intercepts all of those spam emails so they don't end up in your inbox? In this project, you will build a model to classify emails as `spam` or `not-spam`. "
   ]
  },
  {
   "cell_type": "markdown",
   "metadata": {
    "pycharm": {
     "name": "#%% md\n"
    }
   },
   "source": [
    "# The Data\n",
    "The data can be found in the file `emails.csv` in the root director. The `csv` contains the following columns.\n",
    "\n",
    "Columns of `emails.csv` include:\n",
    "- `id`: An identifier for the training example\n",
    "- `subject`: The subject of the email\n",
    "- `email`:  The text of the email\n",
    "- `label`: 1 if the email is `spam`, 0 if the email is `not-spam`\n",
    "\n",
    "The file `emails.csv` contains 7513 rows where each row is an email.\n",
    "\n",
    "First, import `emails.csv` to a DataFrame."
   ]
  },
  {
   "cell_type": "code",
   "execution_count": 4,
   "metadata": {
    "pycharm": {
     "name": "#%%\n"
    }
   },
   "outputs": [
    {
     "data": {
      "text/html": [
       "<div>\n",
       "<style scoped>\n",
       "    .dataframe tbody tr th:only-of-type {\n",
       "        vertical-align: middle;\n",
       "    }\n",
       "\n",
       "    .dataframe tbody tr th {\n",
       "        vertical-align: top;\n",
       "    }\n",
       "\n",
       "    .dataframe thead th {\n",
       "        text-align: right;\n",
       "    }\n",
       "</style>\n",
       "<table border=\"1\" class=\"dataframe\">\n",
       "  <thead>\n",
       "    <tr style=\"text-align: right;\">\n",
       "      <th></th>\n",
       "      <th>id</th>\n",
       "      <th>subject</th>\n",
       "      <th>email</th>\n",
       "      <th>label</th>\n",
       "    </tr>\n",
       "  </thead>\n",
       "  <tbody>\n",
       "    <tr>\n",
       "      <th>4282</th>\n",
       "      <td>4282</td>\n",
       "      <td>Subject: RE: [ILUG] Dell GX260 V Redhat 7.3\\r\\n</td>\n",
       "      <td>&gt; When I get a box I don't want any of that in...</td>\n",
       "      <td>0</td>\n",
       "    </tr>\n",
       "    <tr>\n",
       "      <th>6293</th>\n",
       "      <td>6293</td>\n",
       "      <td>Subject: IBM eNews: Aktuelle Informationen von...</td>\n",
       "      <td>IBM eNews\\r\\n 4. Juli 2002\\r\\n \\r\\n Liebe Lese...</td>\n",
       "      <td>0</td>\n",
       "    </tr>\n",
       "    <tr>\n",
       "      <th>2349</th>\n",
       "      <td>2349</td>\n",
       "      <td>Subject: [zzzzteana] Height, weight, girth, et...</td>\n",
       "      <td>http://www.guardian.co.uk/uk_news/story/0,3604...</td>\n",
       "      <td>0</td>\n",
       "    </tr>\n",
       "    <tr>\n",
       "      <th>3786</th>\n",
       "      <td>3786</td>\n",
       "      <td>Subject: Re: The GOv gets tough on Net Users.....</td>\n",
       "      <td>Hire a really talented skywriter to doodle nud...</td>\n",
       "      <td>0</td>\n",
       "    </tr>\n",
       "    <tr>\n",
       "      <th>4731</th>\n",
       "      <td>4731</td>\n",
       "      <td>Subject: Lander risks missing Mars trip\\r\\n</td>\n",
       "      <td>URL: http://www.newsisfree.com/click/-4,805285...</td>\n",
       "      <td>0</td>\n",
       "    </tr>\n",
       "  </tbody>\n",
       "</table>\n",
       "</div>"
      ],
      "text/plain": [
       "        id                                            subject  \\\n",
       "4282  4282    Subject: RE: [ILUG] Dell GX260 V Redhat 7.3\\r\\n   \n",
       "6293  6293  Subject: IBM eNews: Aktuelle Informationen von...   \n",
       "2349  2349  Subject: [zzzzteana] Height, weight, girth, et...   \n",
       "3786  3786  Subject: Re: The GOv gets tough on Net Users.....   \n",
       "4731  4731        Subject: Lander risks missing Mars trip\\r\\n   \n",
       "\n",
       "                                                  email  label  \n",
       "4282  > When I get a box I don't want any of that in...      0  \n",
       "6293  IBM eNews\\r\\n 4. Juli 2002\\r\\n \\r\\n Liebe Lese...      0  \n",
       "2349  http://www.guardian.co.uk/uk_news/story/0,3604...      0  \n",
       "3786  Hire a really talented skywriter to doodle nud...      0  \n",
       "4731  URL: http://www.newsisfree.com/click/-4,805285...      0  "
      ]
     },
     "execution_count": 4,
     "metadata": {},
     "output_type": "execute_result"
    }
   ],
   "source": [
    "email_data = pd.read_csv('emails.csv', index_col=0)\n",
    "email_data.head()"
   ]
  },
  {
   "cell_type": "markdown",
   "metadata": {
    "pycharm": {
     "name": "#%% md\n"
    }
   },
   "source": [
    "# Data Cleaning and Pre-processing\n",
    "First, convert the email and subject text to lower case. This is based on the assumption that what differentiates `spam` emails from `not-spam` emails is case-insensitive."
   ]
  },
  {
   "cell_type": "code",
   "execution_count": 8,
   "metadata": {
    "pycharm": {
     "name": "#%%\n"
    }
   },
   "outputs": [],
   "source": [
    "email_data['subject'] = email_data['subject'].str.lower()\n",
    "email_data['email'] = email_data['email'].str.lower()"
   ]
  },
  {
   "cell_type": "markdown",
   "metadata": {
    "pycharm": {
     "name": "#%% md\n"
    }
   },
   "source": [
    "Next, let's check if our data contains any missing values. "
   ]
  },
  {
   "cell_type": "code",
   "execution_count": 10,
   "metadata": {
    "pycharm": {
     "name": "#%%\n"
    }
   },
   "outputs": [
    {
     "name": "stdout",
     "output_type": "stream",
     "text": [
      "Missingness before imputation:\n",
      "id         0\n",
      "subject    6\n",
      "email      0\n",
      "label      0\n",
      "dtype: int64\n"
     ]
    }
   ],
   "source": [
    "print('Missingness before imputation:')\n",
    "print(email_data.isnull().sum())"
   ]
  },
  {
   "cell_type": "markdown",
   "metadata": {
    "pycharm": {
     "name": "#%% md\n"
    }
   },
   "source": [
    "We can see there are 6 missing values for `'subject'`. This means that a subject was not included in the email and therefore, we can we replace missing values with appropriate filler values (i.e., NaN values in the subject or email columns will be replaced with empty strings `''`). Note that while there are no missing values in the `'label'` column, we should be careful when replacing missing value labels. Doing so without consideration may introduce significant bias into our model when fitting."
   ]
  },
  {
   "cell_type": "code",
   "execution_count": 12,
   "metadata": {
    "pycharm": {
     "name": "#%%\n"
    }
   },
   "outputs": [
    {
     "name": "stdout",
     "output_type": "stream",
     "text": [
      "Missingness after imputation:\n",
      "id         0\n",
      "subject    0\n",
      "email      0\n",
      "label      0\n",
      "dtype: int64\n"
     ]
    }
   ],
   "source": [
    "email_data[['subject', 'email']] = email_data[['subject', 'email']].fillna('')\n",
    "print('Missingness after imputation:')\n",
    "print(email_data.isnull().sum())"
   ]
  },
  {
   "cell_type": "markdown",
   "metadata": {
    "pycharm": {
     "name": "#%% md\n"
    }
   },
   "source": [
    "Lastly, let's split `email_data` into training and validation datasets. We'll need this validation data to assess the performance of our classifier once we are finished training. Note that we have set the seed (random_state) to `0`. This will produce a pseudo-random sequence of random numbers that is the same for everyone. Do not modify this in the following questions.\n",
    "\n",
    "You'll notice that we've added an argument for `'stratify'` and set it equal to our training target `'label'`. This is done to maintain the proportion of each class in `train` and `val`. If 20% of the emails are `spam` in the dataset, then we want 20% of the emails in the `train` and `val` datasets to be also be `spam`."
   ]
  },
  {
   "cell_type": "code",
   "execution_count": 14,
   "metadata": {
    "pycharm": {
     "name": "#%%\n"
    }
   },
   "outputs": [
    {
     "name": "stdout",
     "output_type": "stream",
     "text": [
      "Train: (6761, 4) Test: (752, 4)\n",
      "Train spam proportion: 25.63 %\n",
      "Test spam proportion: 25.66 %\n"
     ]
    }
   ],
   "source": [
    "from sklearn.model_selection import train_test_split\n",
    "train, val = train_test_split(email_data, test_size=0.1, random_state=0, stratify=email_data['label'])\n",
    "print('Train:', train.shape, 'Test:', val.shape)\n",
    "print('Train spam proportion: {:.2f} %'.format(train['label'][train['label'] == 1].shape[0] / train.shape[0] * 100))\n",
    "print('Test spam proportion: {:.2f} %'.format(val['label'][val['label'] == 1].shape[0] / val.shape[0] * 100))"
   ]
  },
  {
   "cell_type": "markdown",
   "metadata": {
    "pycharm": {
     "name": "#%% md\n"
    }
   },
   "source": [
    "# 1. Feature Engineering\n",
    "We would like to take the text of an email and predict whether the email is `spam` or `not-spam`. This is a classification problem and we will be using logistic regression to train a classifier. Recall that to train a logistic regression model, we need an `nD` numeric feature array `X` and a `1D` array of corresponding binary labels `y`. Unfortunately, our data are text, not numbers. Therefore, we will need to extract some numeric features from the raw email text. Each row of `X` is an email and each column of `X` contains one feature for all the emails. We'll guide you through creating a simple feature. \n",
    "\n",
    "## Question 1a\n",
    "In the cell below, we have printed the text of the `'email'` column for a `not-spam` and a `spam` email in the training set."
   ]
  },
  {
   "cell_type": "code",
   "execution_count": 16,
   "metadata": {
    "pycharm": {
     "name": "#%%\n"
    }
   },
   "outputs": [
    {
     "name": "stdout",
     "output_type": "stream",
     "text": [
      "\n",
      "--------\n",
      "NOT SPAM\n",
      "--------\n",
      "url: http://diveintomark.org/archives/2002/10/05.html#perl_programmers_are_so_cute\n",
      " date: 2002-10-05t21:33:22-05:00\n",
      " \n",
      " _ian hickson_: #include web-log.txt[1]. &#8220;i used some of perl's niftier \n",
      " features, such as using method lookup instead of a switch statement for the \n",
      " preprocessing instruction dispatching, and exceptions instead of passing error \n",
      " codes back and forth.&#8221; he he. perl programmers are so cute when they \n",
      " imitate python programmers.\n",
      " \n",
      " \n",
      " \n",
      " [1] http://ln.hixie.ch/?start=1033841933&count=1\n",
      " \n",
      " \n",
      "\n",
      "\n",
      "----\n",
      "SPAM\n",
      "----\n",
      "this is a multi-part message in mime format.\n",
      " \n",
      " ------=_nextpart_000_c16f3_01c260c3.2978b160\n",
      " content-type: text/plain;\n",
      " \tcharset=\"windows-1252\"\n",
      " content-transfer-encoding: quoted-printable\n",
      " \n",
      "  an additional income stream\n",
      "  from your current book of business!\n",
      "   =09\n",
      "  \t  \t \t =09\n",
      "  \t agent commission:\n",
      " $92,000=20\n",
      "  client:\n",
      "  87-year-old male\n",
      "  82-year-old female\n",
      " \n",
      "  result:\n",
      "  $2,300,000 second to die\n",
      "  policy, minimal cash value.  policy was no longer\n",
      "  required. insured utilized a\n",
      "  life settlement and received\n",
      "  $300,000. agent commission:\n",
      " $30,000=20\n",
      "  client:\n",
      "  70-year-old male with health complications\n",
      " \n",
      "  result:\n",
      "  $1,000,000 policy with small\n",
      "  cash value. insured utilized\n",
      "  a life settlement and\n",
      "  received $300,000. agent commission:\n",
      " $90,000=20\n",
      " \n",
      "  client:\n",
      "  89-year-old female\n",
      " \n",
      "  result:\n",
      "  $2,000,000 policy with an\n",
      "  annual premium of $110,000.\n",
      "  policy expires at age 95.\n",
      "  insured utilized a life\n",
      "  settlement and received\n",
      "  $325,000.=20\n",
      "  \t  \t \t =09\n",
      " =20\n",
      " \n",
      " multiple opportunities to earn commissions\n",
      " from one strategy!=20\n",
      " \n",
      " \tif any of your elderly client=92s health, personal, or financial\n",
      " needs or circumstances have changed since the original life policy was\n",
      " issued you have the opportunity to create an additional income stream\n",
      " with life settlements:\n",
      " \n",
      "  ? earn a referral fee from a life settlement transaction.\n",
      " ? trailer commission on the policy for the agent of record.\n",
      " ? earn investment or annuity commissions from the capital created by=20\n",
      "    the life settlement transaction.\n",
      " ? earn a commission on new life insurance products that better suit=20\n",
      "    your client=92s current needs.\n",
      " ? earn a commission on the conversion if the policy being considered\n",
      "    is a term product.\n",
      " ?earn additional commissions for referring other agents or agencies\n",
      "    to the life settlement alliance.=20\n",
      " =20\n",
      " call today for more information!\n",
      "  800-871-9440=97 or =97=20\n",
      " \n",
      " please fill out the form below for more information\t=20\n",
      " name:\t \t  =09\n",
      " e-mail:\t \t=20\n",
      " phone:\t \t=20\n",
      " city:\t \t state:\t \t=20\n",
      "  \t    =09\n",
      " =20\n",
      " the life settlement alliance <http://www.lsalliance.com> \t=20\n",
      " we don't want anyone to receive our mailings who does not wish to. this\n",
      " is professional communication sent to insurance professionals. to be\n",
      " removed from this mailing list, do not reply to this message. instead,\n",
      " go here: http://www.insuranceiq.com/optout\n",
      " <http://www.insuranceiq.com/optout/>=20\n",
      " \n",
      " legal notice <http://www.insuranceiq.com/legal.htm> =20\n",
      " \n",
      " ------=_nextpart_000_c16f3_01c260c3.2978b160\n",
      " content-type: text/html;\n",
      " \tcharset=\"iso-8859-1\"\n",
      " content-transfer-encoding: quoted-printable\n",
      " \n",
      " <html>\n",
      " <head>\n",
      " <title>one sale - three commission streams</title>\n",
      " <meta http-equiv=3d\"content-type\" content=3d\"text/html; =\n",
      " charset=3diso-8859-1\">\n",
      " </head>\n",
      " <body bgcolor=3d\"#ffffff\" text=3d\"#000000\">\n",
      " <font face=3d\"arial, helvetica, sans-serif\">\n",
      " <table width=3d\"550\" border=3d\"1\" align=3d\"center\" cellpadding=3d\"0\" =\n",
      " cellspacing=3d\"0\" bordercolor=3d\"#000000\" bgcolor=3d\"#ffffff\">\n",
      "   <tr>=20\n",
      "     <td>\n",
      " \t\t\t<img src=3d\"http://iiq.us/images/vbi/lsa/20020730-101a.gif\" alt=3d\"an =\n",
      " additional income stream\" width=3d\"550\" height=3d\"39\"><br>\n",
      " \t\t\t<img src=3d\"http://iiq.us/images/vbi/lsa/20020730-102a.gif\" =\n",
      " alt=3d\"from your current book of business!\" width=3d\"550\" =\n",
      " height=3d\"43\"><br>\n",
      "       <img src=3d\"http://iiq.us/images/vbi/lsa/20020730-103a.jpg\" =\n",
      " width=3d\"275\" height=3d\"206\"><img =\n",
      " src=3d\"http://iiq.us/images/vbi/lsa/20020730-104a.jpg\" width=3d\"275\" =\n",
      " height=3d\"206\"></td>\n",
      " \t</tr>\n",
      " \t<tr>\n",
      " \t\t<td>\n",
      "       <table width=3d\"100%\" cellpadding=3d\"0\" cellspacing=3d\"0\" =\n",
      " border=3d\"0\" bgcolor=3d\"#ffffff\">\n",
      "         <tr>=20\n",
      "           <td width=3d\"5\">&nbsp;</td>\n",
      "           <td width=3d\"180\"><img =\n",
      " src=3d\"http://iiq.us/images/vbi/lsa/20020730-201a.gif\" width=3d\"180\" =\n",
      " height=3d\"43\"></td>\n",
      "           <td width=3d\"180\"><img =\n",
      " src=3d\"http://iiq.us/images/vbi/lsa/20020730-201b.gif\" width=3d\"180\" =\n",
      " height=3d\"43\"></td>\n",
      "           <td width=3d\"180\"><img =\n",
      " src=3d\"http://iiq.us/images/vbi/lsa/20020730-201c.gif\" width=3d\"180\" =\n",
      " height=3d\"43\"></td>\n",
      "         </tr>\n",
      "         <tr>=20\n",
      "           <td>&nbsp;</td>\n",
      "           <td valign=3d\"top\" =\n",
      " background=3d\"http://iiq.us/images/vbi/lsa/20020730-203.gif\">\n",
      " \t\t\t\t\t\t<font size=3d\"2\">=20\n",
      " \t\t\t\t\t\t\t<center>\n",
      " \t\t\t\t\t\t\t\t<b>agent commission:<br>\n",
      " \t\t\t\t\t\t\t\t<font color=3d\"#ff0000\" size=3d\"3\">$92,000</font></b>=20\n",
      " \t\t\t\t\t\t\t</center>\n",
      " \t\t\t\t\t\t\t<b><i>&nbsp;client:</i></b><br>\n",
      " \t\t\t\t\t\t\t&nbsp;87-year-old male<br>\n",
      " \t\t\t\t\t\t\t&nbsp;82-year-old female<br>\n",
      " \t\t\t\t\t\t\t<br>\n",
      " \t\t\t\t\t\t\t<i><b>&nbsp;result:</b></i><br>\n",
      " \t\t\t\t\t\t\t&nbsp;$2,300,000 second to die<br>\n",
      " \t\t\t\t\t\t\t&nbsp;policy, minimal cash value. &nbsp;policy was no longer<br>\n",
      " \t\t\t\t\t\t\t&nbsp;required.&nbsp;insured utilized a<br>\n",
      " \t\t\t\t\t\t\t&nbsp;life settlement and received<br>\n",
      " \t\t\t\t\t\t\t&nbsp;$300,000.\n",
      " \t\t\t\t\t\t</font>\n",
      " \t\t\t\t\t</td>\n",
      "           <td valign=3d\"top\" =\n",
      " background=3d\"http://iiq.us/images/vbi/lsa/20020730-203.gif\">\n",
      " \t\t\t\t\t\t<font size=3d\"2\">\n",
      " \t\t\t\t\t\t\t<center>\n",
      " \t\t\t\t\t\t\t\t<b>agent commission:<br>\n",
      " \t\t\t\t\t\t\t\t<font color=3d\"#ff0000\" size=3d\"3\">$30,000</font></b>\n",
      " \t\t\t\t\t\t\t</center>\n",
      " \t\t\t\t\t\t\t<b><i>&nbsp;client:</i></b><br>\n",
      " \t\t\t\t\t\t\t&nbsp;70-year-old male with health complications<br>\n",
      " \t\t\t\t\t\t\t<br>\n",
      " \t\t\t\t\t\t\t<i><b>&nbsp;result:</b></i><br>\n",
      " \t\t\t\t\t\t\t&nbsp;$1,000,000 policy with small<br>\n",
      " \t\t\t\t\t\t\t&nbsp;cash value. insured utilized<br>\n",
      " \t\t\t\t\t\t\t&nbsp;a life settlement and<br>\n",
      " \t\t\t\t\t\t\t&nbsp;received $300,000.\n",
      " \t\t\t\t\t\t</font>\n",
      " \t\t\t\t\t</td>\n",
      "           <td valign=3d\"top\" =\n",
      " background=3d\"http://iiq.us/images/vbi/lsa/20020730-203.gif\">=20\n",
      " \t\t\t\t\t\t<font size=3d\"2\">\n",
      " \t\t\t\t\t\t\t<center>\n",
      " \t\t\t\t\t\t\t\t<b>agent commission:<br>\n",
      " \t\t\t\t\t\t\t\t<font color=3d\"#ff0000\" size=3d\"3\">$90,000</font></b>\n",
      " \t\t\t\t\t\t\t</center><br>\n",
      " \t\t\t\t\t\t\t<b><i>&nbsp;client:</i></b><br>\n",
      " \t\t\t\t\t\t\t&nbsp;89-year-old female<br>\n",
      " \t\t\t\t\t\t\t<br>\n",
      " \t\t\t\t\t\t\t<i><b>&nbsp;result:</b></i><br>\n",
      " \t\t\t\t\t\t\t&nbsp;$2,000,000 policy with an<br>\n",
      " \t\t\t\t\t\t\t&nbsp;annual premium of $110,000.<br>\n",
      " \t\t\t\t\t\t\t&nbsp;policy expires at age 95.<br>\n",
      " \t\t\t\t\t\t\t&nbsp;insured utilized a life<br>\n",
      " \t\t\t\t\t\t\t&nbsp;settlement and received<br>\n",
      " \t\t\t\t\t\t\t&nbsp;$325,000.\n",
      " \t\t\t\t\t\t</font>\n",
      " \t\t\t\t\t</td>\n",
      "         </tr>\n",
      "         <tr>=20\n",
      "           <td>&nbsp;</td>\n",
      "           <td><img src=3d\"http://iiq.us/images/vbi/lsa/20020730-205.gif\" =\n",
      " width=3d\"180\" height=3d\"38\"></td>\n",
      "           <td><img src=3d\"http://iiq.us/images/vbi/lsa/20020730-205.gif\" =\n",
      " width=3d\"180\" height=3d\"38\"></td>\n",
      "           <td><img src=3d\"http://iiq.us/images/vbi/lsa/20020730-205.gif\" =\n",
      " width=3d\"180\" height=3d\"38\"></td>\n",
      "         </tr>\n",
      "       </table>\n",
      "       <table width=3d\"100%\" cellpadding=3d\"2\" cellspacing=3d\"2\" =\n",
      " border=3d\"0\" bgcolor=3d\"#ffffff\">\n",
      "         <tr>=20\n",
      "           <td> <img src=3d\"http://iiq.us/images/vbi/lsa/20020730-99.gif\" =\n",
      " width=3d\"8\" height=3d\"8\"><br>=20\n",
      "             <center>\n",
      "               <b><font size=3d\"4\">multiple opportunities to earn =\n",
      " commissions<br>\n",
      "               from one strategy!</font></b>=20\n",
      "             </center>\n",
      "             <font size=3d\"2\">\n",
      "             <blockquote> if any of your elderly client's health,=20\n",
      "               personal, or financial needs or circumstances have changed =\n",
      " since=20\n",
      "               the original life policy was issued you have the =\n",
      " opportunity to=20\n",
      "               create an additional income stream with life =\n",
      " settlements:</blockquote>\n",
      "             <b><img src=3d\"http://iiq.us/images/vbi/lsa/20020730-99.gif\" =\n",
      " width=3d\"30\" height=3d\"147\" align=3d\"left\">\n",
      "             &#149; earn a referral fee from a life settlement =\n",
      " transaction.<br>\n",
      "             &#149; trailer commission on the policy for the agent of =\n",
      " record.<br>\n",
      "             &#149; earn investment or annuity commissions from the =\n",
      " capital created by <br>\n",
      "             &nbsp;&nbsp;&nbsp;the life settlement transaction.<br>\n",
      "             &#149; earn a commission on new life insurance products that =\n",
      " better suit <br>\n",
      "             &nbsp;&nbsp;&nbsp;your client's current needs.<br>\n",
      "             &#149; earn a commission on the conversion if the policy =\n",
      " being considered<br>\n",
      "             &nbsp;&nbsp;&nbsp;is a term product.<br>\n",
      "             &#149;earn additional commissions for referring other agents =\n",
      " or agencies<br>\n",
      "             &nbsp;&nbsp;&nbsp;to the life settlement =\n",
      " alliance.</b></font>=20\n",
      "           </td>\n",
      "         </tr>\n",
      "         <tr>=20\n",
      "           <td align=3d\"center\">\n",
      "             <img src=3d\"http://iiq.us/images/vbi/lsa/20020730-99.gif\" =\n",
      " width=3d\"8\" height=3d\"8\"><br>=20\n",
      "             <b><font size=3d\"2\">call today for more information!<br>\n",
      "             <img src=3d\"http://iiq.us/images/vbi/lsa/20020730-3.gif\" =\n",
      " alt=3d\"800-871-9440\" width=3d\"540\" height=3d\"64\">=20\n",
      "             &#8212; or &#8212; </font></b><br>=20\n",
      "             <table width=3d\"95%\" bgcolor=3d\"#000000\">\n",
      "               <tr>=20\n",
      "                 <form method=3d\"post\" =\n",
      " action=3d\"http://65.217.159.103/response/response.asp\">\n",
      "                   <td>=20\n",
      "                     <table width=3d\"100%\" border=3d\"0\" cellspacing=3d\"0\" =\n",
      " cellpadding=3d\"2\" align=3d\"center\" bgcolor=3d\"#cccccc\">\n",
      "                       <tr bgcolor=3d\"#000066\">=20\n",
      "                         <td colspan=3d\"5\" align=3d\"center\"><b><font =\n",
      " color=3d\"#ffffff\" size=3d\"2\">please fill out the form below for more =\n",
      " information</font></b></td>\n",
      "                       </tr>\n",
      "                       <tr>=20\n",
      "                         <td width=3d\"15%\" align=3d\"right\"><b><font =\n",
      " size=3d\"2\">name:</font></b></td>\n",
      "                         <td colspan=3d\"3\"> <input type=3d\"text\" =\n",
      " name=3d\"contactname\" size=3d\"50\"></td>\n",
      "                         <td rowspan=3d\"5\" valign=3d\"middle\" =\n",
      " align=3d\"center\"><img src=3d\"http://iiq.us/images/q.gif\" width=3d\"43\" =\n",
      " height=3d\"50\"></td>\n",
      "                       </tr>\n",
      "                       <tr>=20\n",
      "                         <td width=3d\"15%\" align=3d\"right\"><b><font =\n",
      " size=3d\"2\">e-mail:</font></b></td>\n",
      "                         <td colspan=3d\"3\"> <input type=3d\"text\" =\n",
      " name=3d\"email\" size=3d\"50\"></td>\n",
      "                       </tr>\n",
      "                       <tr>=20\n",
      "                         <td width=3d\"15%\" align=3d\"right\"><b><font =\n",
      " size=3d\"2\">phone:</font></b></td>\n",
      "                         <td colspan=3d\"3\"> <input type=3d\"text\" =\n",
      " name=3d\"phone\" size=3d\"50\"></td>\n",
      "                       </tr>\n",
      "                       <tr>=20\n",
      "                         <td width=3d\"15%\" align=3d\"right\"><b><font =\n",
      " size=3d\"2\">city:</font></b></td>\n",
      "                         <td width=3d\"30%\"> <input type=3d\"text\" =\n",
      " name=3d\"city\" size=3d\"20\"></td>\n",
      "                         <td width=3d\"15%\" align=3d\"right\"><b><font =\n",
      " size=3d\"2\">state:</font></b></td>\n",
      "                         <td width=3d\"20%\"> <input type=3d\"text\" =\n",
      " name=3d\"state\" size=3d\"2\"></td>\n",
      "                       </tr>\n",
      "                       <tr>=20\n",
      "                         <td width=3d\"15%\" align=3d\"right\">&nbsp;</td>\n",
      "                         <td width=3d\"30%\" colspan=3d'3'>=20\n",
      "                           <input type=3d\"submit\" name=3d\"btnsubmit\" =\n",
      " value=3d\"submit\">=20\n",
      "                           <input type=3d\"hidden\" =\n",
      " name=3d\"hdnrecipienttxt\" value=3d\"info@vbimail.com\">=20\n",
      "                           <input type=3d\"hidden\" name=3d\"hdnsubjecttxt\" =\n",
      " value=3d\"vbi ad inquiry\">=20\n",
      "                         </td>\n",
      "                       </tr>\n",
      "                     </table>\n",
      "                   </td>\n",
      "                 <input type=3d'hidden' name=3d'sentto' value=3d'304704'>\n",
      " </form>\n",
      "               </tr>\n",
      "             </table>\n",
      "           </td>\n",
      "         </tr>\n",
      "         <tr>=20\n",
      "           <td align=3d\"center\"><a =\n",
      " href=3d\"http://www.lsalliance.com\"><img =\n",
      " src=3d\"http://iiq.us/images/vbi/lsa/20020730-4.gif\" alt=3d\"the life =\n",
      " settlement alliance\" width=3d\"254\" height=3d\"119\" border=3d\"0\"></a></td>\n",
      "         </tr>\n",
      "       </table>\n",
      "     </td>\n",
      "   </tr>\n",
      "   <tr>=20\n",
      "     <td width=3d\"100%\" bgcolor=3d\"#cccccc\" align=3d\"center\">=20\n",
      "       <p><font face=3d\"arial, helvetica, sans-serif\" size=3d\"1\"> we =\n",
      " don't want anyone=20\n",
      "         to receive our mailings who does not wish to. this is =\n",
      " professional communication=20\n",
      "         sent to insurance professionals. to be removed from this mailing =\n",
      " list,=20\n",
      "         <b>do not reply</b> to this message. instead, go here: <a =\n",
      " href=3d\"http://www.insuranceiq.com/optout/\">=20\n",
      "         http://www.insuranceiq.com/optout</a></font></p>\n",
      "     </td>\n",
      "   </tr>\n",
      " </table>\n",
      " <center>\n",
      "   <font face=3d\"arial, helvetica, sans-serif\" size=3d\"1\"><a =\n",
      " href=3d\"http://www.insuranceiq.com/legal.htm\">legal notice</a></font>=20\n",
      " </center>\n",
      " </font>=20\n",
      " </body>\n",
      " </html>\n",
      " \n",
      " \n",
      " ------=_nextpart_000_c16f3_01c260c3.2978b160--\n",
      " \n",
      " \n",
      "\n"
     ]
    }
   ],
   "source": [
    "index = 1  # You can change this to see other examples\n",
    "not_spam = train.loc[train['label'] == 0, 'email'].iloc[index]\n",
    "spam = train.loc[train['label'] == 1, 'email'].iloc[index]\n",
    "print('\\n--------\\nNOT SPAM\\n--------')\n",
    "print(not_spam)\n",
    "print('\\n----\\nSPAM\\n----')\n",
    "print(spam)"
   ]
  },
  {
   "cell_type": "markdown",
   "metadata": {
    "pycharm": {
     "name": "#%% md\n"
    }
   },
   "source": [
    "Discuss one thing you notice that is different between `spam` emails and `not-spam` emails that might help with the identification of `spam`."
   ]
  },
  {
   "cell_type": "markdown",
   "metadata": {
    "pycharm": {
     "name": "#%% md\n"
    }
   },
   "source": [
    "The content of the spam emails usually is relating to money/financial information or some sort of deal. As well, the spam emails have a large amount of embedded images and HTML tags used to embed content, unlike non-spam emails."
   ]
  },
  {
   "cell_type": "markdown",
   "metadata": {
    "pycharm": {
     "name": "#%% md\n"
    }
   },
   "source": [
    "## Question 1b\n",
    "Create a function called `word_detector` that takes in a list of words and a pandas Series of email texts. It should output a DataFrame containing one row for each email text. The row should contain either a 0 or a 1 for each word in the list: 0 if the word doesn't appear in the text and 1 if the word does.\n",
    "\n",
    "The following code\n",
    "```python \n",
    "word_detector(['hello', 'bye', 'world'], \n",
    "              pd.Series(['hello', 'hello worldhello']))\n",
    "```\n",
    "should output the following DataFrame.\n",
    "<br>\n",
    "<img src=\"images/q1b.png\" alt=\"drawing\" width=\"150\"/>\n",
    "<br>"
   ]
  },
  {
   "cell_type": "code",
   "execution_count": 23,
   "metadata": {
    "pycharm": {
     "name": "#%%\n"
    }
   },
   "outputs": [],
   "source": [
    "def word_detector(words, texts):\n",
    "    \n",
    "    \"\"\"\n",
    "    Returns a DataFrame with detections of words.\n",
    "\n",
    "    Parameters:\n",
    "        words (list): A list of words to look for.\n",
    "        texts (Series): A series of strings to search in.\n",
    "\n",
    "    Returns:\n",
    "        (DataFrame): A DataFrame with len(words) columns and texts.shape[0] rows.\n",
    "    \"\"\"\n",
    "    \n",
    "    #An empty dataframe is initiatd with columns for each word. Str contains is used to populate the dataframe\n",
    "    #for the passed texts.\n",
    "    \n",
    "    df = pd.DataFrame(columns=words)\n",
    "    for i in df:\n",
    "        df[i] = texts.str.contains(i).astype(int)\n",
    "                                         \n",
    "    return df"
   ]
  },
  {
   "cell_type": "markdown",
   "metadata": {
    "pycharm": {
     "name": "#%% md\n"
    }
   },
   "source": [
    "Let's check it out."
   ]
  },
  {
   "cell_type": "code",
   "execution_count": 25,
   "metadata": {
    "pycharm": {
     "name": "#%%\n"
    }
   },
   "outputs": [
    {
     "data": {
      "text/html": [
       "<div>\n",
       "<style scoped>\n",
       "    .dataframe tbody tr th:only-of-type {\n",
       "        vertical-align: middle;\n",
       "    }\n",
       "\n",
       "    .dataframe tbody tr th {\n",
       "        vertical-align: top;\n",
       "    }\n",
       "\n",
       "    .dataframe thead th {\n",
       "        text-align: right;\n",
       "    }\n",
       "</style>\n",
       "<table border=\"1\" class=\"dataframe\">\n",
       "  <thead>\n",
       "    <tr style=\"text-align: right;\">\n",
       "      <th></th>\n",
       "      <th>hello</th>\n",
       "      <th>bye</th>\n",
       "      <th>world</th>\n",
       "    </tr>\n",
       "  </thead>\n",
       "  <tbody>\n",
       "    <tr>\n",
       "      <th>0</th>\n",
       "      <td>1</td>\n",
       "      <td>0</td>\n",
       "      <td>0</td>\n",
       "    </tr>\n",
       "    <tr>\n",
       "      <th>1</th>\n",
       "      <td>1</td>\n",
       "      <td>0</td>\n",
       "      <td>1</td>\n",
       "    </tr>\n",
       "  </tbody>\n",
       "</table>\n",
       "</div>"
      ],
      "text/plain": [
       "   hello  bye  world\n",
       "0      1    0      0\n",
       "1      1    0      1"
      ]
     },
     "execution_count": 25,
     "metadata": {},
     "output_type": "execute_result"
    }
   ],
   "source": [
    "word_detector(['hello', 'bye', 'world'], \n",
    "              pd.Series(['hello', 'hello worldhello']))"
   ]
  },
  {
   "cell_type": "markdown",
   "metadata": {
    "pycharm": {
     "name": "#%% md\n"
    }
   },
   "source": [
    "And, we can check if it works for our `'email'` column in `train`."
   ]
  },
  {
   "cell_type": "code",
   "execution_count": 27,
   "metadata": {
    "pycharm": {
     "name": "#%%\n"
    }
   },
   "outputs": [
    {
     "data": {
      "text/html": [
       "<div>\n",
       "<style scoped>\n",
       "    .dataframe tbody tr th:only-of-type {\n",
       "        vertical-align: middle;\n",
       "    }\n",
       "\n",
       "    .dataframe tbody tr th {\n",
       "        vertical-align: top;\n",
       "    }\n",
       "\n",
       "    .dataframe thead th {\n",
       "        text-align: right;\n",
       "    }\n",
       "</style>\n",
       "<table border=\"1\" class=\"dataframe\">\n",
       "  <thead>\n",
       "    <tr style=\"text-align: right;\">\n",
       "      <th></th>\n",
       "      <th>hello</th>\n",
       "      <th>bye</th>\n",
       "      <th>world</th>\n",
       "    </tr>\n",
       "  </thead>\n",
       "  <tbody>\n",
       "    <tr>\n",
       "      <th>6277</th>\n",
       "      <td>0</td>\n",
       "      <td>0</td>\n",
       "      <td>0</td>\n",
       "    </tr>\n",
       "    <tr>\n",
       "      <th>2342</th>\n",
       "      <td>0</td>\n",
       "      <td>0</td>\n",
       "      <td>0</td>\n",
       "    </tr>\n",
       "    <tr>\n",
       "      <th>3147</th>\n",
       "      <td>0</td>\n",
       "      <td>0</td>\n",
       "      <td>0</td>\n",
       "    </tr>\n",
       "    <tr>\n",
       "      <th>643</th>\n",
       "      <td>0</td>\n",
       "      <td>0</td>\n",
       "      <td>0</td>\n",
       "    </tr>\n",
       "    <tr>\n",
       "      <th>7128</th>\n",
       "      <td>0</td>\n",
       "      <td>0</td>\n",
       "      <td>0</td>\n",
       "    </tr>\n",
       "  </tbody>\n",
       "</table>\n",
       "</div>"
      ],
      "text/plain": [
       "      hello  bye  world\n",
       "6277      0    0      0\n",
       "2342      0    0      0\n",
       "3147      0    0      0\n",
       "643       0    0      0\n",
       "7128      0    0      0"
      ]
     },
     "execution_count": 27,
     "metadata": {},
     "output_type": "execute_result"
    }
   ],
   "source": [
    "word_detector(['hello', 'bye', 'world'], train['email']).head()"
   ]
  },
  {
   "cell_type": "markdown",
   "metadata": {
    "pycharm": {
     "name": "#%% md\n"
    }
   },
   "source": [
    "It is important that the index values output from `word_detector()` match with the indices in `train`. Let's check quickly."
   ]
  },
  {
   "cell_type": "code",
   "execution_count": 29,
   "metadata": {
    "pycharm": {
     "name": "#%%\n"
    }
   },
   "outputs": [
    {
     "data": {
      "text/html": [
       "<div>\n",
       "<style scoped>\n",
       "    .dataframe tbody tr th:only-of-type {\n",
       "        vertical-align: middle;\n",
       "    }\n",
       "\n",
       "    .dataframe tbody tr th {\n",
       "        vertical-align: top;\n",
       "    }\n",
       "\n",
       "    .dataframe thead th {\n",
       "        text-align: right;\n",
       "    }\n",
       "</style>\n",
       "<table border=\"1\" class=\"dataframe\">\n",
       "  <thead>\n",
       "    <tr style=\"text-align: right;\">\n",
       "      <th></th>\n",
       "      <th>id</th>\n",
       "      <th>subject</th>\n",
       "      <th>email</th>\n",
       "      <th>label</th>\n",
       "    </tr>\n",
       "  </thead>\n",
       "  <tbody>\n",
       "    <tr>\n",
       "      <th>6277</th>\n",
       "      <td>6277</td>\n",
       "      <td>subject: [spambayes] maybe change x-spam-dispo...</td>\n",
       "      <td>\\r\\n     &gt;&gt; accordingly, i wrote unheader.py, ...</td>\n",
       "      <td>0</td>\n",
       "    </tr>\n",
       "    <tr>\n",
       "      <th>2342</th>\n",
       "      <td>2342</td>\n",
       "      <td>subject: perl programmers are so cute\\r\\n</td>\n",
       "      <td>url: http://diveintomark.org/archives/2002/10/...</td>\n",
       "      <td>0</td>\n",
       "    </tr>\n",
       "    <tr>\n",
       "      <th>3147</th>\n",
       "      <td>3147</td>\n",
       "      <td>subject: sun\\r\\n</td>\n",
       "      <td>well, it looks like sun are going ahead with\\r...</td>\n",
       "      <td>0</td>\n",
       "    </tr>\n",
       "    <tr>\n",
       "      <th>643</th>\n",
       "      <td>643</td>\n",
       "      <td>subject: [spambayes] spambayes package?\\r\\n</td>\n",
       "      <td>\\r\\n     &gt;&gt; before we get too far down this ro...</td>\n",
       "      <td>0</td>\n",
       "    </tr>\n",
       "    <tr>\n",
       "      <th>7128</th>\n",
       "      <td>7128</td>\n",
       "      <td>subject: re: use of base image / delta image f...</td>\n",
       "      <td>&gt; ben mord said:\\r\\n &gt; \\r\\n &gt; &gt;ah. in that cas...</td>\n",
       "      <td>0</td>\n",
       "    </tr>\n",
       "  </tbody>\n",
       "</table>\n",
       "</div>"
      ],
      "text/plain": [
       "        id                                            subject  \\\n",
       "6277  6277  subject: [spambayes] maybe change x-spam-dispo...   \n",
       "2342  2342          subject: perl programmers are so cute\\r\\n   \n",
       "3147  3147                                   subject: sun\\r\\n   \n",
       "643    643        subject: [spambayes] spambayes package?\\r\\n   \n",
       "7128  7128  subject: re: use of base image / delta image f...   \n",
       "\n",
       "                                                  email  label  \n",
       "6277  \\r\\n     >> accordingly, i wrote unheader.py, ...      0  \n",
       "2342  url: http://diveintomark.org/archives/2002/10/...      0  \n",
       "3147  well, it looks like sun are going ahead with\\r...      0  \n",
       "643   \\r\\n     >> before we get too far down this ro...      0  \n",
       "7128  > ben mord said:\\r\\n > \\r\\n > >ah. in that cas...      0  "
      ]
     },
     "execution_count": 29,
     "metadata": {},
     "output_type": "execute_result"
    }
   ],
   "source": [
    "train.head()"
   ]
  },
  {
   "cell_type": "markdown",
   "metadata": {
    "pycharm": {
     "name": "#%% md\n"
    }
   },
   "source": [
    "## Question 1c\n",
    "We need to identify some features that allow us to distinguish `spam` emails from `not-spam` emails. One idea is to compare the distribution of a single feature in `spam` emails to the distribution of the same feature in `not-spam` emails. If the feature is itself a binary indicator, such as whether a certain word occurs in the text, this amounts to comparing the proportion of `spam` emails with the word to the proportion of `not-spam` emails with the word.\n",
    "\n",
    "The following plot (which was created using `sns.barplot`) compares the proportion of emails in each class containing a particular set of words.\n",
    "```python\n",
    "words = ['body', 'business', 'html', 'money', 'offer', 'please']\n",
    "```\n",
    "<br>\n",
    "<img src=\"images/q1c.png\" alt=\"drawing\" width=\"500\"/>\n",
    "<br>\n",
    "\n",
    "Create a bar chart like the one above comparing the proportion of `spam` and `not-spam` emails containing certain words. Choose a set of **six** words that are different from the ones above, but also have different proportions for the two classes. We'll help you get started."
   ]
  },
  {
   "cell_type": "markdown",
   "metadata": {
    "pycharm": {
     "name": "#%% md\n"
    }
   },
   "source": [
    "First let's create a list of the words we're interested in."
   ]
  },
  {
   "cell_type": "code",
   "execution_count": 31,
   "metadata": {
    "pycharm": {
     "name": "#%%\n"
    }
   },
   "outputs": [],
   "source": [
    "words = ['body', 'business', 'html', 'money', 'offer', 'please']"
   ]
  },
  {
   "cell_type": "markdown",
   "metadata": {
    "pycharm": {
     "name": "#%% md\n"
    }
   },
   "source": [
    "Next, let's use our function `word_detector()` to detect the words in `words`."
   ]
  },
  {
   "cell_type": "code",
   "execution_count": 33,
   "metadata": {
    "pycharm": {
     "name": "#%%\n"
    }
   },
   "outputs": [
    {
     "data": {
      "text/html": [
       "<div>\n",
       "<style scoped>\n",
       "    .dataframe tbody tr th:only-of-type {\n",
       "        vertical-align: middle;\n",
       "    }\n",
       "\n",
       "    .dataframe tbody tr th {\n",
       "        vertical-align: top;\n",
       "    }\n",
       "\n",
       "    .dataframe thead th {\n",
       "        text-align: right;\n",
       "    }\n",
       "</style>\n",
       "<table border=\"1\" class=\"dataframe\">\n",
       "  <thead>\n",
       "    <tr style=\"text-align: right;\">\n",
       "      <th></th>\n",
       "      <th>body</th>\n",
       "      <th>business</th>\n",
       "      <th>html</th>\n",
       "      <th>money</th>\n",
       "      <th>offer</th>\n",
       "      <th>please</th>\n",
       "      <th>label</th>\n",
       "    </tr>\n",
       "  </thead>\n",
       "  <tbody>\n",
       "    <tr>\n",
       "      <th>6277</th>\n",
       "      <td>0</td>\n",
       "      <td>0</td>\n",
       "      <td>0</td>\n",
       "      <td>0</td>\n",
       "      <td>0</td>\n",
       "      <td>1</td>\n",
       "      <td>0</td>\n",
       "    </tr>\n",
       "    <tr>\n",
       "      <th>2342</th>\n",
       "      <td>0</td>\n",
       "      <td>0</td>\n",
       "      <td>1</td>\n",
       "      <td>0</td>\n",
       "      <td>0</td>\n",
       "      <td>0</td>\n",
       "      <td>0</td>\n",
       "    </tr>\n",
       "    <tr>\n",
       "      <th>3147</th>\n",
       "      <td>0</td>\n",
       "      <td>1</td>\n",
       "      <td>0</td>\n",
       "      <td>0</td>\n",
       "      <td>0</td>\n",
       "      <td>0</td>\n",
       "      <td>0</td>\n",
       "    </tr>\n",
       "    <tr>\n",
       "      <th>643</th>\n",
       "      <td>0</td>\n",
       "      <td>0</td>\n",
       "      <td>0</td>\n",
       "      <td>0</td>\n",
       "      <td>0</td>\n",
       "      <td>0</td>\n",
       "      <td>0</td>\n",
       "    </tr>\n",
       "    <tr>\n",
       "      <th>7128</th>\n",
       "      <td>0</td>\n",
       "      <td>0</td>\n",
       "      <td>0</td>\n",
       "      <td>0</td>\n",
       "      <td>0</td>\n",
       "      <td>0</td>\n",
       "      <td>0</td>\n",
       "    </tr>\n",
       "  </tbody>\n",
       "</table>\n",
       "</div>"
      ],
      "text/plain": [
       "      body  business  html  money  offer  please  label\n",
       "6277     0         0     0      0      0       1      0\n",
       "2342     0         0     1      0      0       0      0\n",
       "3147     0         1     0      0      0       0      0\n",
       "643      0         0     0      0      0       0      0\n",
       "7128     0         0     0      0      0       0      0"
      ]
     },
     "execution_count": 33,
     "metadata": {},
     "output_type": "execute_result"
    }
   ],
   "source": [
    "df_q1c = pd.concat((word_detector(words, train['email']), \n",
    "                    train[['label']]), axis=1)\n",
    "df_q1c.head()"
   ]
  },
  {
   "cell_type": "markdown",
   "metadata": {
    "pycharm": {
     "name": "#%% md\n"
    }
   },
   "source": [
    "use the `.melt()` method to \"unpivot\" the DataFrame `df_q1c`."
   ]
  },
  {
   "cell_type": "code",
   "execution_count": 35,
   "metadata": {
    "pycharm": {
     "name": "#%%\n"
    }
   },
   "outputs": [
    {
     "data": {
      "text/html": [
       "<div>\n",
       "<style scoped>\n",
       "    .dataframe tbody tr th:only-of-type {\n",
       "        vertical-align: middle;\n",
       "    }\n",
       "\n",
       "    .dataframe tbody tr th {\n",
       "        vertical-align: top;\n",
       "    }\n",
       "\n",
       "    .dataframe thead th {\n",
       "        text-align: right;\n",
       "    }\n",
       "</style>\n",
       "<table border=\"1\" class=\"dataframe\">\n",
       "  <thead>\n",
       "    <tr style=\"text-align: right;\">\n",
       "      <th></th>\n",
       "      <th>label</th>\n",
       "      <th>variable</th>\n",
       "      <th>value</th>\n",
       "    </tr>\n",
       "  </thead>\n",
       "  <tbody>\n",
       "    <tr>\n",
       "      <th>0</th>\n",
       "      <td>0</td>\n",
       "      <td>body</td>\n",
       "      <td>0</td>\n",
       "    </tr>\n",
       "    <tr>\n",
       "      <th>1</th>\n",
       "      <td>0</td>\n",
       "      <td>body</td>\n",
       "      <td>0</td>\n",
       "    </tr>\n",
       "    <tr>\n",
       "      <th>2</th>\n",
       "      <td>0</td>\n",
       "      <td>body</td>\n",
       "      <td>0</td>\n",
       "    </tr>\n",
       "    <tr>\n",
       "      <th>3</th>\n",
       "      <td>0</td>\n",
       "      <td>body</td>\n",
       "      <td>0</td>\n",
       "    </tr>\n",
       "    <tr>\n",
       "      <th>4</th>\n",
       "      <td>0</td>\n",
       "      <td>body</td>\n",
       "      <td>0</td>\n",
       "    </tr>\n",
       "    <tr>\n",
       "      <th>5</th>\n",
       "      <td>1</td>\n",
       "      <td>body</td>\n",
       "      <td>0</td>\n",
       "    </tr>\n",
       "    <tr>\n",
       "      <th>6</th>\n",
       "      <td>0</td>\n",
       "      <td>body</td>\n",
       "      <td>0</td>\n",
       "    </tr>\n",
       "    <tr>\n",
       "      <th>7</th>\n",
       "      <td>0</td>\n",
       "      <td>body</td>\n",
       "      <td>0</td>\n",
       "    </tr>\n",
       "    <tr>\n",
       "      <th>8</th>\n",
       "      <td>0</td>\n",
       "      <td>body</td>\n",
       "      <td>0</td>\n",
       "    </tr>\n",
       "    <tr>\n",
       "      <th>9</th>\n",
       "      <td>0</td>\n",
       "      <td>body</td>\n",
       "      <td>0</td>\n",
       "    </tr>\n",
       "  </tbody>\n",
       "</table>\n",
       "</div>"
      ],
      "text/plain": [
       "   label variable  value\n",
       "0      0     body      0\n",
       "1      0     body      0\n",
       "2      0     body      0\n",
       "3      0     body      0\n",
       "4      0     body      0\n",
       "5      1     body      0\n",
       "6      0     body      0\n",
       "7      0     body      0\n",
       "8      0     body      0\n",
       "9      0     body      0"
      ]
     },
     "execution_count": 35,
     "metadata": {},
     "output_type": "execute_result"
    }
   ],
   "source": [
    "df_q1c = df_q1c.melt('label')\n",
    "df_q1c.head(10)"
   ]
  },
  {
   "cell_type": "code",
   "execution_count": 37,
   "metadata": {
    "pycharm": {
     "name": "#%%\n"
    }
   },
   "outputs": [
    {
     "data": {
      "text/html": [
       "<div>\n",
       "<style scoped>\n",
       "    .dataframe tbody tr th:only-of-type {\n",
       "        vertical-align: middle;\n",
       "    }\n",
       "\n",
       "    .dataframe tbody tr th {\n",
       "        vertical-align: top;\n",
       "    }\n",
       "\n",
       "    .dataframe thead th {\n",
       "        text-align: right;\n",
       "    }\n",
       "</style>\n",
       "<table border=\"1\" class=\"dataframe\">\n",
       "  <thead>\n",
       "    <tr style=\"text-align: right;\">\n",
       "      <th></th>\n",
       "      <th>label</th>\n",
       "      <th>variable</th>\n",
       "      <th>value</th>\n",
       "    </tr>\n",
       "  </thead>\n",
       "  <tbody>\n",
       "    <tr>\n",
       "      <th>0</th>\n",
       "      <td>0</td>\n",
       "      <td>lottery</td>\n",
       "      <td>0</td>\n",
       "    </tr>\n",
       "    <tr>\n",
       "      <th>1</th>\n",
       "      <td>0</td>\n",
       "      <td>lottery</td>\n",
       "      <td>0</td>\n",
       "    </tr>\n",
       "    <tr>\n",
       "      <th>2</th>\n",
       "      <td>0</td>\n",
       "      <td>lottery</td>\n",
       "      <td>0</td>\n",
       "    </tr>\n",
       "    <tr>\n",
       "      <th>3</th>\n",
       "      <td>0</td>\n",
       "      <td>lottery</td>\n",
       "      <td>0</td>\n",
       "    </tr>\n",
       "    <tr>\n",
       "      <th>4</th>\n",
       "      <td>0</td>\n",
       "      <td>lottery</td>\n",
       "      <td>0</td>\n",
       "    </tr>\n",
       "    <tr>\n",
       "      <th>5</th>\n",
       "      <td>1</td>\n",
       "      <td>lottery</td>\n",
       "      <td>0</td>\n",
       "    </tr>\n",
       "    <tr>\n",
       "      <th>6</th>\n",
       "      <td>0</td>\n",
       "      <td>lottery</td>\n",
       "      <td>0</td>\n",
       "    </tr>\n",
       "    <tr>\n",
       "      <th>7</th>\n",
       "      <td>0</td>\n",
       "      <td>lottery</td>\n",
       "      <td>0</td>\n",
       "    </tr>\n",
       "    <tr>\n",
       "      <th>8</th>\n",
       "      <td>0</td>\n",
       "      <td>lottery</td>\n",
       "      <td>0</td>\n",
       "    </tr>\n",
       "    <tr>\n",
       "      <th>9</th>\n",
       "      <td>0</td>\n",
       "      <td>lottery</td>\n",
       "      <td>0</td>\n",
       "    </tr>\n",
       "  </tbody>\n",
       "</table>\n",
       "</div>"
      ],
      "text/plain": [
       "   label variable  value\n",
       "0      0  lottery      0\n",
       "1      0  lottery      0\n",
       "2      0  lottery      0\n",
       "3      0  lottery      0\n",
       "4      0  lottery      0\n",
       "5      1  lottery      0\n",
       "6      0  lottery      0\n",
       "7      0  lottery      0\n",
       "8      0  lottery      0\n",
       "9      0  lottery      0"
      ]
     },
     "execution_count": 37,
     "metadata": {},
     "output_type": "execute_result"
    }
   ],
   "source": [
    "# New words are chosen\n",
    "new_words = ['lottery', 'now', 'lose', 'opportunity', 'send', 'vacation']\n",
    "\n",
    "# Word detector is used on train emails.\n",
    "df_q1c_new = pd.concat((word_detector(new_words, train['email']), \n",
    "                    train[['label']]), axis=1)\n",
    "\n",
    "# Melt is used to un-pivot data.\n",
    "df_q1c_new = df_q1c_new.melt('label')\n",
    "\n",
    "# Value is multipled by 100 to express as percentage\n",
    "df_q1c_new['value'] = df_q1c_new['value'] * 100 \n",
    "\n",
    "df_q1c_new.head(10)"
   ]
  },
  {
   "cell_type": "code",
   "execution_count": 39,
   "metadata": {},
   "outputs": [
    {
     "data": {
      "image/png": "[encoded data removed]",
      "text/plain": [
       "<Figure size 1000x500 with 1 Axes>"
      ]
     },
     "metadata": {},
     "output_type": "display_data"
    }
   ],
   "source": [
    "#add a column for spam label in the legend\n",
    "df_q1c_new['spam_label'] = np.where(df_q1c_new['label'] == 0, 'non-spam', 'spam')\n",
    "\n",
    "#sns barplot is used to show the spam/non-spam proportion for the new words\n",
    "plt.figure(figsize=(10, 5))\n",
    "plt.title('Frequency of Words in Spam/Non-Spam Emails', fontsize=18)\n",
    "ax = sns.barplot(x=\"variable\", y='value', hue=\"spam_label\", data=df_q1c_new, ci=None)\n",
    "ax.set_xlabel('Words', fontsize=18)\n",
    "ax.set_ylabel('Proportion of Emails %', fontsize=18)\n",
    "plt.show()"
   ]
  },
  {
   "cell_type": "markdown",
   "metadata": {
    "pycharm": {
     "name": "#%% md\n"
    }
   },
   "source": [
    "You can text your code with these words as a quick sanity check.\n",
    "```python\n",
    "words = ['body', 'business', 'html', 'money', 'offer', 'please']\n",
    "```"
   ]
  },
  {
   "cell_type": "markdown",
   "metadata": {
    "pycharm": {
     "name": "#%% md\n"
    }
   },
   "source": [
    "# 2. Model Building\n",
    "Our new function `word_detector(['hello', 'bye', 'world'], train['email'])` outputs a numeric DataFrame containing features for each email. This means we can use it as input to train a classifier.\n",
    "\n",
    "## Question 2a\n",
    "Let's consider 5 words that might be useful as features to distinguish `spam` from `not-spam` emails. \n",
    "```python\n",
    "words = ['drug', 'bank', 'prescription', 'memo', 'private']\n",
    "```\n",
    "Use `words` as well as the `train` DataFrame to create two DataFrames: `X_train` and `y_train`.\n",
    "\n",
    "`X_train` should be a DataFrame of 0s and 1s created by using `word_detector()` on all the emails in `train`.\n",
    "\n",
    "`y_train` should be a 1D DataFrame of the correct labels for each email in `train`."
   ]
  },
  {
   "cell_type": "code",
   "execution_count": 41,
   "metadata": {
    "pycharm": {
     "name": "#%%\n"
    }
   },
   "outputs": [],
   "source": [
    "words = ['drug', 'bank', 'prescription', 'memo', 'private']\n",
    "\n",
    "# X_train and y_train are defined using word_detector on the words\n",
    "X_train = word_detector(words, train['email'])\n",
    "y_train = train[['label']]"
   ]
  },
  {
   "cell_type": "markdown",
   "metadata": {
    "pycharm": {
     "name": "#%% md\n"
    }
   },
   "source": [
    "Check `X_train`"
   ]
  },
  {
   "cell_type": "code",
   "execution_count": 43,
   "metadata": {
    "pycharm": {
     "name": "#%%\n"
    }
   },
   "outputs": [
    {
     "data": {
      "text/html": [
       "<div>\n",
       "<style scoped>\n",
       "    .dataframe tbody tr th:only-of-type {\n",
       "        vertical-align: middle;\n",
       "    }\n",
       "\n",
       "    .dataframe tbody tr th {\n",
       "        vertical-align: top;\n",
       "    }\n",
       "\n",
       "    .dataframe thead th {\n",
       "        text-align: right;\n",
       "    }\n",
       "</style>\n",
       "<table border=\"1\" class=\"dataframe\">\n",
       "  <thead>\n",
       "    <tr style=\"text-align: right;\">\n",
       "      <th></th>\n",
       "      <th>drug</th>\n",
       "      <th>bank</th>\n",
       "      <th>prescription</th>\n",
       "      <th>memo</th>\n",
       "      <th>private</th>\n",
       "    </tr>\n",
       "  </thead>\n",
       "  <tbody>\n",
       "    <tr>\n",
       "      <th>6277</th>\n",
       "      <td>0</td>\n",
       "      <td>0</td>\n",
       "      <td>0</td>\n",
       "      <td>0</td>\n",
       "      <td>0</td>\n",
       "    </tr>\n",
       "    <tr>\n",
       "      <th>2342</th>\n",
       "      <td>0</td>\n",
       "      <td>0</td>\n",
       "      <td>0</td>\n",
       "      <td>0</td>\n",
       "      <td>0</td>\n",
       "    </tr>\n",
       "    <tr>\n",
       "      <th>3147</th>\n",
       "      <td>0</td>\n",
       "      <td>1</td>\n",
       "      <td>0</td>\n",
       "      <td>0</td>\n",
       "      <td>0</td>\n",
       "    </tr>\n",
       "    <tr>\n",
       "      <th>643</th>\n",
       "      <td>0</td>\n",
       "      <td>0</td>\n",
       "      <td>0</td>\n",
       "      <td>0</td>\n",
       "      <td>0</td>\n",
       "    </tr>\n",
       "    <tr>\n",
       "      <th>7128</th>\n",
       "      <td>0</td>\n",
       "      <td>0</td>\n",
       "      <td>0</td>\n",
       "      <td>0</td>\n",
       "      <td>0</td>\n",
       "    </tr>\n",
       "  </tbody>\n",
       "</table>\n",
       "</div>"
      ],
      "text/plain": [
       "      drug  bank  prescription  memo  private\n",
       "6277     0     0             0     0        0\n",
       "2342     0     0             0     0        0\n",
       "3147     0     1             0     0        0\n",
       "643      0     0             0     0        0\n",
       "7128     0     0             0     0        0"
      ]
     },
     "execution_count": 43,
     "metadata": {},
     "output_type": "execute_result"
    }
   ],
   "source": [
    "X_train.head()"
   ]
  },
  {
   "cell_type": "markdown",
   "metadata": {
    "pycharm": {
     "name": "#%% md\n"
    }
   },
   "source": [
    "and check y_train."
   ]
  },
  {
   "cell_type": "code",
   "execution_count": 45,
   "metadata": {
    "pycharm": {
     "name": "#%%\n"
    }
   },
   "outputs": [
    {
     "data": {
      "text/html": [
       "<div>\n",
       "<style scoped>\n",
       "    .dataframe tbody tr th:only-of-type {\n",
       "        vertical-align: middle;\n",
       "    }\n",
       "\n",
       "    .dataframe tbody tr th {\n",
       "        vertical-align: top;\n",
       "    }\n",
       "\n",
       "    .dataframe thead th {\n",
       "        text-align: right;\n",
       "    }\n",
       "</style>\n",
       "<table border=\"1\" class=\"dataframe\">\n",
       "  <thead>\n",
       "    <tr style=\"text-align: right;\">\n",
       "      <th></th>\n",
       "      <th>label</th>\n",
       "    </tr>\n",
       "  </thead>\n",
       "  <tbody>\n",
       "    <tr>\n",
       "      <th>6277</th>\n",
       "      <td>0</td>\n",
       "    </tr>\n",
       "    <tr>\n",
       "      <th>2342</th>\n",
       "      <td>0</td>\n",
       "    </tr>\n",
       "    <tr>\n",
       "      <th>3147</th>\n",
       "      <td>0</td>\n",
       "    </tr>\n",
       "    <tr>\n",
       "      <th>643</th>\n",
       "      <td>0</td>\n",
       "    </tr>\n",
       "    <tr>\n",
       "      <th>7128</th>\n",
       "      <td>0</td>\n",
       "    </tr>\n",
       "  </tbody>\n",
       "</table>\n",
       "</div>"
      ],
      "text/plain": [
       "      label\n",
       "6277      0\n",
       "2342      0\n",
       "3147      0\n",
       "643       0\n",
       "7128      0"
      ]
     },
     "execution_count": 45,
     "metadata": {},
     "output_type": "execute_result"
    }
   ],
   "source": [
    "y_train.head()"
   ]
  },
  {
   "cell_type": "markdown",
   "metadata": {
    "pycharm": {
     "name": "#%% md\n"
    }
   },
   "source": [
    "## Question 2b\n",
    "Now that we have `X_train` and `y_train`, we can build a model with `scikit-learn`. Using the `LogisticRegression()` classifier, train a logistic regression model using `X_train` and `y_train`. Then, output the model's training accuracy below. You should get an accuracy of around `0.75`. \n",
    "\n",
    "You must also create a function `accuracy()` that takes two 1D numpy arrays (`y_true` and `y_pred`) and outputs an accuracy score. `y_true` and `y_pred` arrays can only contain **0**'s `not-spam` or **1**'s `spam`.\n",
    "\n",
    "Do **NOT** use the `sklearn` function `accuracy_score()` from `sklearn.metrics` to compute the accuracy.\n",
    "\n",
    "Hint: ```np.equal(y_true, y_pred)```"
   ]
  },
  {
   "cell_type": "code",
   "execution_count": 47,
   "metadata": {
    "pycharm": {
     "name": "#%%\n"
    }
   },
   "outputs": [],
   "source": [
    "def accuracy(y_true, y_pred):\n",
    "    \n",
    "    \"\"\"\n",
    "    Returns a accuracy score for two 1D numpy array of the same length.\n",
    "\n",
    "    Parameters:\n",
    "        y_true (1D numpy array): 1D array of true binary labels \n",
    "                                 np.array([0, 1, 0, 0, ..]).\n",
    "        y_pred (1D numpy array): 1D array of predicted binary labels \n",
    "                                 np.array([1, 0, 0, 1, ..]).\n",
    "\n",
    "    Returns:\n",
    "        (float): Accuracy score of y_true and y_pred.\n",
    "    \"\"\"\n",
    "    # Score compares the values in y_pred and y_true\n",
    "    score = np.equal(y_true,y_pred)\n",
    "    \n",
    "    # Calculate the accuracy from the score\n",
    "    value = np.sum(score) / len(score)\n",
    "    \n",
    "    return value"
   ]
  },
  {
   "cell_type": "code",
   "execution_count": 49,
   "metadata": {
    "pycharm": {
     "name": "#%%\n"
    }
   },
   "outputs": [
    {
     "name": "stdout",
     "output_type": "stream",
     "text": [
      "Training Accuracy: 0.757\n"
     ]
    }
   ],
   "source": [
    "from sklearn.linear_model import LogisticRegression\n",
    "\n",
    "# A Logistic Regression model is initiated and fitted to train data\n",
    "model = LogisticRegression(solver='liblinear', random_state=0)\n",
    "model.fit(X_train, y_train)\n",
    "\n",
    "# y_true and y_pred are defined\n",
    "y_true = y_train.values.flatten()\n",
    "y_pred = model.predict(X_train)\n",
    "\n",
    "# Accuracy calculation\n",
    "training_accuracy = accuracy(y_true, y_pred)\n",
    "\n",
    "# Print training accuracy\n",
    "print('Training Accuracy: {:.3f}'.format(training_accuracy))"
   ]
  },
  {
   "cell_type": "markdown",
   "metadata": {
    "pycharm": {
     "name": "#%% md\n"
    }
   },
   "source": [
    "Whoa! 75% accuracy isn't bad considering we're only using a few simple features. But wait, isn't this dataset imbalanced?"
   ]
  },
  {
   "cell_type": "code",
   "execution_count": 51,
   "metadata": {
    "pycharm": {
     "name": "#%%\n"
    }
   },
   "outputs": [
    {
     "data": {
      "image/png": "[encoded data removed]",
      "text/plain": [
       "<Figure size 600x300 with 1 Axes>"
      ]
     },
     "metadata": {},
     "output_type": "display_data"
    }
   ],
   "source": [
    "df_temp = train['label'].map(lambda val: 'spam' if \n",
    "                             val == 1 else 'not-spam').to_frame()\n",
    "\n",
    "plt.figure(figsize=(6, 3))\n",
    "plt.title('Number of Spam emails', fontsize=18)\n",
    "ax = sns.countplot(x='label', data=df_temp)\n",
    "ax.xaxis.set_tick_params(labelsize=14)\n",
    "ax.yaxis.set_tick_params(labelsize=14)\n",
    "ax.set_xlabel('', fontsize=18)\n",
    "ax.set_ylabel('Email Count', fontsize=18)\n",
    "plt.show()"
   ]
  },
  {
   "cell_type": "markdown",
   "metadata": {
    "pycharm": {
     "name": "#%% md\n"
    }
   },
   "source": [
    "Yes, this dataset is clearly imbalanced. To be specific, ~25% of the data are `spam` and ~75% are `not-spam`. But wait, our accuracy was ~75% too? Something seems off here."
   ]
  },
  {
   "cell_type": "markdown",
   "metadata": {
    "pycharm": {
     "name": "#%% md\n"
    }
   },
   "source": [
    "## Question 2c\n",
    "Let's create another classifier called `zero_predictor()` that takes our features `X_train` as input and always predicts `0` (never predicts positive `1`). `zero_predictor()` should output a 1D numpy array with length equal to the number of rows in `X_train`. "
   ]
  },
  {
   "cell_type": "code",
   "execution_count": 53,
   "metadata": {
    "pycharm": {
     "name": "#%%\n"
    }
   },
   "outputs": [],
   "source": [
    "def zero_predictor(X_train):\n",
    "    \n",
    "    \"\"\"\n",
    "    Returns a 1D numpy array with a length equal to the number of \n",
    "    rows in X_train.\n",
    "\n",
    "    Parameters:\n",
    "        X_train (DataFrame): DataFrame of training features.\n",
    "\n",
    "    Returns:\n",
    "        (1D numpy array): Zero predictions for every entry in X_train.\n",
    "    \"\"\"\n",
    "    \n",
    "     # Initalize an array of 0's\n",
    "    zeroes = np.zeros(len(X_train))\n",
    "    \n",
    "    return zeroes"
   ]
  },
  {
   "cell_type": "markdown",
   "metadata": {
    "pycharm": {
     "name": "#%% md\n"
    }
   },
   "source": [
    "Next, use your function `accuracy()` to compute the accuracy of your model `zero_predictor()`."
   ]
  },
  {
   "cell_type": "code",
   "execution_count": 55,
   "metadata": {
    "pycharm": {
     "name": "#%%\n"
    }
   },
   "outputs": [
    {
     "name": "stdout",
     "output_type": "stream",
     "text": [
      "Zero Predictor Accuracy: 0.744\n"
     ]
    }
   ],
   "source": [
    "# Accuracy calculation\n",
    "zero_predictor_accuracy = accuracy(y_true, zero_predictor(X_train))\n",
    "\n",
    "# Print zero predictor accuracy\n",
    "print('Zero Predictor Accuracy: {:.3f}'.format(zero_predictor_accuracy))"
   ]
  },
  {
   "cell_type": "markdown",
   "metadata": {
    "pycharm": {
     "name": "#%% md\n"
    }
   },
   "source": [
    "Wow, we achieved almost the same accuracy as our fancy `LogisticRegression` model by simply predicting zeros.\n",
    "\n",
    "The take-away lesson here is that you shouldn’t use accuracy on imbalanced problems. This is because it is easy to get a high accuracy score by simply classifying all observations as the majority class (`not-spam` in our case).\n",
    "\n",
    "Because our problem is imbalanced, we'll need to find some other metric to help us evaluate our model."
   ]
  },
  {
   "cell_type": "markdown",
   "metadata": {
    "pycharm": {
     "name": "#%% md\n"
    }
   },
   "source": [
    "## Evaluating Classifiers\n",
    "We just learned that our classifier isn't as good as the accuracy suggests. Firstly, we are evaluating accuracy on the training set, which may provide a misleading accuracy measure. Accuracy on the training set doesn't always translate to accuracy in the real world (on the test set). But, you'll remember we split out dataset into `train` and `val` and we'll evaluate our model on `val` later on. But, the main issue is that our dataset is imbalanced which accuracy is not well suited to.\n",
    "\n",
    "When thinking about which metric to use to evaluate our model, its essential to consider the use case. Our classifier will be used for filtering email. Our model will prevent messages labeled `spam` from reaching someone's inbox. \n",
    "\n",
    "There are two kinds of errors the model can make:\n",
    "\n",
    "**False Positive (FP):** a `not-spam` (negative,0) email gets flagged as `spam` (positive,1) and filtered out of the inbox. A `FP` is commonly refered to as `Type I Error`.\n",
    "\n",
    "**False Negative (FN):** a `spam` (positive,1) email gets mislabeled as `not-spam` (negative,0) and ends up in the inbox. A `FN` is commonly refered to as `Type II Error`.\n",
    "\n",
    "And there are two correct predictions the model can make:\n",
    "\n",
    "**True Positive (TP):** a `spam` (positive,1) email that is classified as `spam` (positive,1).\n",
    "\n",
    "**True Negative (TN):** a `not-spam` (negative,0) email that is classified as `not-spam` (negative,0).\n",
    "\n",
    "These definitions depend both on the true labels and the predicted labels. "
   ]
  },
  {
   "cell_type": "markdown",
   "metadata": {
    "pycharm": {
     "name": "#%% md\n"
    }
   },
   "source": [
    "## Question 2d\n",
    "Let's revisit our `zero_predictor()` from the previous question. For this question, we need to compute how many `false positives`, `false negatives`, `true positives` and `true negatives` this classifier generates when evaluated on the training set and its results are compared to `y_train`. Do NOT use any sklearn functions.\n",
    "\n",
    "First, you need to create four functions: \n",
    "- `count_false_positives()`\n",
    "- `count_false_negatives()`\n",
    "- `count_true_positives()`\n",
    "- `count_true_negatives()`\n",
    "\n",
    "Hint: Check out the numpy function `np.logical_and()`"
   ]
  },
  {
   "cell_type": "code",
   "execution_count": 137,
   "metadata": {
    "pycharm": {
     "name": "#%%\n"
    }
   },
   "outputs": [],
   "source": [
    "def count_false_positives(y_true, y_pred):\n",
    "    \"\"\"\n",
    "    Returns the number of false positives.\n",
    "\n",
    "    Parameters:\n",
    "        y_true (1D numpy array): 1D array of true binary labels \n",
    "                                 np.array([0, 1, 0, 0, ..]).\n",
    "        y_pred (1D numpy array): 1D array of predicted binary labels \n",
    "                                 np.array([1, 0, 0, 1, ..]).\n",
    "\n",
    "    Returns:\n",
    "        (int): The number of false positives detected.\n",
    "    \"\"\"\n",
    "    # False positives are when prediction is true, but the value is false\n",
    "    false_positive = np.sum(np.logical_and(y_pred == 1, y_true == 0))\n",
    "    \n",
    "    return false_positive\n",
    "\n",
    "def count_false_negatives(y_true, y_pred):\n",
    "    \"\"\"\n",
    "    Returns the number of false negatives.\n",
    "\n",
    "    Parameters:\n",
    "        y_true (1D numpy array): 1D array of true binary labels \n",
    "                                 np.array([0, 1, 0, 0, ..]).\n",
    "        y_pred (1D numpy array): 1D array of predicted binary labels \n",
    "                                 np.array([1, 0, 0, 1, ..]).\n",
    "\n",
    "    Returns:\n",
    "        (int): The number of false negatives detected.\n",
    "    \"\"\"\n",
    "    # False negatives are when prediction is false, but the value is true\n",
    "    false_negative = np.sum(np.logical_and(y_pred == 0, y_true == 1))\n",
    "    \n",
    "    return false_negative\n",
    "\n",
    "def count_true_positives(y_true, y_pred):\n",
    "    \"\"\"\n",
    "    Returns the number of true positives.\n",
    "\n",
    "    Parameters:\n",
    "        y_true (1D numpy array): 1D array of true binary labels \n",
    "                                 np.array([0, 1, 0, 0, ..]).\n",
    "        y_pred (1D numpy array): 1D array of predicted binary labels \n",
    "                                 np.array([1, 0, 0, 1, ..]).\n",
    "\n",
    "    Returns:\n",
    "        (int): The number of true positives detected.\n",
    "    \"\"\"\n",
    "    # True positives are when prediction is true and the value is true\n",
    "    true_positive = np.sum(np.logical_and(y_pred == 1, y_true == 1))\n",
    "    \n",
    "    return true_positive\n",
    "\n",
    "def count_true_negatives(y_true, y_pred):\n",
    "    \"\"\"\n",
    "    Returns the number of true negatives.\n",
    "\n",
    "    Parameters:\n",
    "        y_true (1D numpy array): 1D array of true binary labels \n",
    "                                 np.array([0, 1, 0, 0, ..]).\n",
    "        y_pred (1D numpy array): 1D array of predicted binary labels \n",
    "                                 np.array([1, 0, 0, 1, ..]).\n",
    "\n",
    "    Returns:\n",
    "        (int): The number of true negatives detected.\n",
    "    \"\"\"\n",
    "    # True negatives are when prediction is false and the value is false\n",
    "    true_negative = np.sum(np.logical_and(y_pred == 0, y_true == 0))\n",
    "    \n",
    "    return true_negative"
   ]
  },
  {
   "cell_type": "code",
   "execution_count": 139,
   "metadata": {
    "pycharm": {
     "name": "#%%\n"
    }
   },
   "outputs": [
    {
     "name": "stdout",
     "output_type": "stream",
     "text": [
      "There are 6761 records in train.\n",
      "There are 0 false positives.\n",
      "There are 1733 false negatives.\n",
      "There are 0 true positives.\n",
      "There are 5028 true negatives.\n",
      "fp + fn + tp + tn = 6761\n"
     ]
    }
   ],
   "source": [
    "# Count predictions\n",
    "zero_predictor_fp = count_false_positives(y_true, zero_predictor(X_train))\n",
    "zero_predictor_fn = count_false_negatives(y_true, zero_predictor(X_train))\n",
    "zero_predictor_tp = count_true_positives(y_true, zero_predictor(X_train))\n",
    "zero_predictor_tn = count_true_negatives(y_true, zero_predictor(X_train))\n",
    "\n",
    "# Print results\n",
    "print('There are {} records in train.'.format(train.shape[0]))\n",
    "print('There are {} false positives.'.format(zero_predictor_fp))\n",
    "print('There are {} false negatives.'.format(zero_predictor_fn))\n",
    "print('There are {} true positives.'.format(zero_predictor_tp))\n",
    "print('There are {} true negatives.'.format(zero_predictor_tn))\n",
    "print('fp + fn + tp + tn = {}'.format(sum([zero_predictor_fp, \n",
    "                                           zero_predictor_fn,\n",
    "                                           zero_predictor_tp,\n",
    "                                           zero_predictor_tn])))"
   ]
  },
  {
   "cell_type": "markdown",
   "metadata": {
    "pycharm": {
     "name": "#%% md\n"
    }
   },
   "source": [
    "A quick check is to ensure that `fp + fn + tp + tn = train.shape[0]`.\n",
    "\n",
    "You'll see that there are no `false positives` or `true positives`, which makes sense because our simple model `zero_predictor()` predicts `0` for every record. There are no positive predictions, so there can be no `false positives` or `true positives`.\n",
    "\n",
    "`false positives` and `false negatives` may be of differing importance depending on the use case, leading us to consider more ways of evaluating a classifier. Beyond accuracy, `precision` and `recall` are common metrics for evaluating classifiers.\n",
    "\n",
    "### Precision\n",
    "**Precision** measures the proportion of emails flagged as `spam` that are actually `spam`. In other field, such as medicine, `Precision` is refered to as `Positive Predictive Value (PPV)`.\n",
    "\n",
    "**precision = $\\frac{\\text{TP}}{\\text{TP} + \\text{FP}}$**\n",
    "\n",
    "### Recall\n",
    "**Recall** measures the proportion of `spam` emails that were correctly flagged as `spam`. In other field, such as medicine, `Recall` is refered to as `Sensitivity`.\n",
    "\n",
    "**recall = $\\frac{\\text{TP}}{\\text{TP} + \\text{FN}}$**\n",
    "\n",
    "### False-Alarm Rate\n",
    "**False-alarm rate (far)** measures the proportion (**$\\frac{\\text{FP}}{\\text{FP} + \\text{TN}}$**) of `non-spam` emails that were incorrectly flagged as `spam`.\n",
    "\n",
    "**far = $\\frac{\\text{FP}}{\\text{FP} + \\text{TN}}$**\n",
    "\n",
    "The two graphic below may help you understand precision and recall visually.\n",
    "<br>\n",
    "<img src=\"images/precision_recall.png\" alt=\"drawing\" width=\"400\"/>\n",
    "<br>"
   ]
  },
  {
   "cell_type": "markdown",
   "metadata": {
    "pycharm": {
     "name": "#%% md\n"
    }
   },
   "source": [
    "## Question 2e\n",
    "For this question, we need to compute the `accuracy`, `precision`, `recall` and `false-alarm rate` for our simple `zero_predictor()` model when evaluated on the training set and its results are compared to `y_train`. Do NOT use any sklearn functions.\n",
    "\n",
    "We already have a function for `accuracy`. For this question, you'll need to create three functions: \n",
    "- `precision()`\n",
    "- `recall()`\n",
    "- `false_positive_rate()`\n",
    "\n",
    "Hint: Use your functions from the last question.\n",
    "- `count_false_positives()`\n",
    "- `count_false_negatives()`\n",
    "- `count_true_positives()`\n",
    "- `count_true_negatives()`"
   ]
  },
  {
   "cell_type": "code",
   "execution_count": 143,
   "metadata": {
    "pycharm": {
     "name": "#%%\n"
    }
   },
   "outputs": [],
   "source": [
    "def precision(y_true, y_pred):\n",
    "    \"\"\"\n",
    "    Returns the precision score.\n",
    "\n",
    "    Parameters:\n",
    "        y_true (1D numpy array): 1D array of true binary labels \n",
    "                                 np.array([0, 1, 0, 0, ..]).\n",
    "        y_pred (1D numpy array): 1D array of predicted binary labels \n",
    "                                 np.array([1, 0, 0, 1, ..]).\n",
    "\n",
    "    Returns:\n",
    "        float: The precision.\n",
    "    \"\"\"\n",
    "    # Precision is calculated as: TP / (TP + FP)\n",
    "    tp = count_true_positives(y_true, y_pred)\n",
    "    fp = count_false_positives(y_true, y_pred)\n",
    "\n",
    "    if (tp + fp) == 0:\n",
    "        return 0.0  # Avoid division by zero; return 0 if no positive predictions\n",
    "\n",
    "    precision_value = tp / (tp + fp)\n",
    "    return precision_value\n",
    "\n",
    "def recall(y_true, y_pred):\n",
    "    \"\"\"\n",
    "    Returns the recall score.\n",
    "\n",
    "    Parameters:\n",
    "        y_true (1D numpy array): 1D array of true binary labels \n",
    "                                 np.array([0, 1, 0, 0, ..]).\n",
    "        y_pred (1D numpy array): 1D array of predicted binary labels \n",
    "                                 np.array([1, 0, 0, 1, ..]).\n",
    "\n",
    "    Returns:\n",
    "        float: The recall.\n",
    "    \"\"\"\n",
    "    # Recall is calculated as: TP / (TP + FN)\n",
    "    tp = count_true_positives(y_true, y_pred)\n",
    "    fn = count_false_negatives(y_true, y_pred)\n",
    "\n",
    "    if (tp + fn) == 0:\n",
    "        return 0.0  # Avoid division by zero; return 0 if no actual positives\n",
    "\n",
    "    recall_value = tp / (tp + fn)\n",
    "    return recall_value\n",
    "\n",
    "def false_alarm_rate(y_true, y_pred):\n",
    "    \"\"\"\n",
    "    Returns the false alarm rate.\n",
    "\n",
    "    Parameters:\n",
    "        y_true (1D numpy array): 1D array of true binary labels \n",
    "                                 np.array([0, 1, 0, 0, ..]).\n",
    "        y_pred (1D numpy array): 1D array of predicted binary labels \n",
    "                                 np.array([1, 0, 0, 1, ..]).\n",
    "\n",
    "    Returns:\n",
    "        float: The false positive rate.\n",
    "    \"\"\"\n",
    "    # False alarm rate is calculated as: FP / (FP + TN)\n",
    "    fp = count_false_positives(y_true, y_pred)\n",
    "    tn = count_true_negatives(y_true, y_pred)\n",
    "\n",
    "    if (fp + tn) == 0:\n",
    "        return 0.0  # Avoid division by zero; return 0 if no actual negatives\n",
    "\n",
    "    false_alarm_rate_value = fp / (fp + tn)\n",
    "    return false_alarm_rate_value\n"
   ]
  },
  {
   "cell_type": "code",
   "execution_count": 145,
   "metadata": {
    "pycharm": {
     "name": "#%%\n"
    }
   },
   "outputs": [
    {
     "name": "stdout",
     "output_type": "stream",
     "text": [
      "Accuracy 0.744\n",
      "Precision: 0.000\n",
      "Recall: 0.000\n",
      "False Alarm Rate: 0.000\n"
     ]
    }
   ],
   "source": [
    "# Count metrics\n",
    "zero_predictor_accuracy = accuracy(y_true, zero_predictor(X_train))\n",
    "zero_predictor_precision = precision(y_true, zero_predictor(X_train))\n",
    "zero_predictor_recall = recall(y_true, zero_predictor(X_train))\n",
    "zero_predictor_far = false_alarm_rate(y_true, zero_predictor(X_train))\n",
    "\n",
    "# Print results\n",
    "print('Accuracy {:.3f}'.format(zero_predictor_accuracy))\n",
    "print('Precision: {:.3f}'.format(zero_predictor_precision))\n",
    "print('Recall: {:.3f}'.format(zero_predictor_recall))\n",
    "print('False Alarm Rate: {:.3f}'.format(zero_predictor_far))"
   ]
  },
  {
   "cell_type": "markdown",
   "metadata": {
    "pycharm": {
     "name": "#%% md\n"
    }
   },
   "source": [
    "## Question 2f\n",
    "Comment on the results from Question 2e. For each of `accuracy`, `precision`, `recall`, and `false-alarm rate`, briefly explain why we see the result that we do."
   ]
  },
  {
   "cell_type": "markdown",
   "metadata": {
    "pycharm": {
     "name": "#%% md\n"
    }
   },
   "source": [
    "Accuracy -> The model correctly classifies 74.4% of the emails as either spam or not-spam. However, it is important to consider the class imbalance. If the dataset is heavily skewed towards non-spam mails, a high accuracy can be misleading.\n",
    "\n",
    "Precision -> This measures the proportion of true positives among all predicted positives. A precision of zero indicates that the model incorrectly classifies all non-spam mails as spam. This shows that the model is overly aggressive in flagging emails as spam. \n",
    "\n",
    "Recall -> This measures the proportion of true positives among all actual positives. A recall of 0 indicates that the model fails to detect any actual spam mails. This shows that the models misses spam emails.\n",
    "\n",
    "False-Alarm Rate -> This measures the proportion of false positives among all predicted negatives. A false alarm rate of 0 shows that the model does not misclassify any non-spam emails as spam. However, given the precision and recall results, this is probably due to the model's failure to predict any spam mails. "
   ]
  },
  {
   "cell_type": "markdown",
   "metadata": {
    "pycharm": {
     "name": "#%% md\n"
    }
   },
   "source": [
    "## Question 2g\n",
    "Using the function you have created, compute the `accuracy`, `precision`, `recall`, and `false-alarm rate` of the `LogisticRegression` classifier created and trained in Question 2b."
   ]
  },
  {
   "cell_type": "code",
   "execution_count": 147,
   "metadata": {
    "pycharm": {
     "name": "#%%\n"
    }
   },
   "outputs": [
    {
     "name": "stdout",
     "output_type": "stream",
     "text": [
      "Accuracy 0.757\n",
      "Precision: 0.651\n",
      "Recall: 0.112\n",
      "False Alarm Rate: 0.021\n"
     ]
    }
   ],
   "source": [
    "# Write your code here\n",
    "lr_predictor_accuracy = accuracy(y_true, y_pred)\n",
    "lr_predictor_precision = precision(y_true, y_pred)\n",
    "lr_predictor_recall = recall(y_true, y_pred)\n",
    "lr_predictor_far = false_alarm_rate(y_true, y_pred)\n",
    "\n",
    "# Print results\n",
    "print('Accuracy {:.3f}'.format(lr_predictor_accuracy))\n",
    "print('Precision: {:.3f}'.format(lr_predictor_precision))\n",
    "print('Recall: {:.3f}'.format(lr_predictor_recall))\n",
    "print('False Alarm Rate: {:.3f}'.format(lr_predictor_far))"
   ]
  },
  {
   "cell_type": "markdown",
   "metadata": {
    "pycharm": {
     "name": "#%% md\n"
    }
   },
   "source": [
    "## Question 2h\n",
    "Are there more false positives or false negatives when using the `logistic regression` classifier from Question 2b?"
   ]
  },
  {
   "cell_type": "code",
   "execution_count": 149,
   "metadata": {},
   "outputs": [
    {
     "name": "stdout",
     "output_type": "stream",
     "text": [
      "The number of false positives: 104\n",
      "The number of false negatives: 1539\n"
     ]
    }
   ],
   "source": [
    "# Count predictions\n",
    "logistic_fp = count_false_positives(y_true, y_pred)\n",
    "logistic_fn = count_false_negatives(y_true, y_pred)\n",
    "logistic_tp = count_true_positives(y_true, y_pred)\n",
    "logistic_tn = count_true_negatives(y_true, y_pred)\n",
    "\n",
    "print('The number of false positives: ' + str(logistic_fp))\n",
    "print('The number of false negatives: ' + str(logistic_fn))"
   ]
  },
  {
   "cell_type": "markdown",
   "metadata": {
    "pycharm": {
     "name": "#%% md\n"
    }
   },
   "source": [
    "There are many more false negatives using the logistic model from 2b."
   ]
  },
  {
   "cell_type": "markdown",
   "metadata": {
    "pycharm": {
     "name": "#%% md\n"
    }
   },
   "source": [
    "## Question 2i"
   ]
  },
  {
   "cell_type": "markdown",
   "metadata": {
    "pycharm": {
     "name": "#%% md\n"
    }
   },
   "source": [
    "Given the words we gave you above `['drug', 'bank', 'prescription', 'memo', 'private']`, give one reason why our `Logistic Regression` classifier is performing so poorly. \n",
    "\n",
    "Hint: Think about how prevalent these words are in the email set. Maybe the bar chart from Question 1c could be helpful?"
   ]
  },
  {
   "cell_type": "code",
   "execution_count": 151,
   "metadata": {
    "pycharm": {
     "name": "#%%\n"
    }
   },
   "outputs": [
    {
     "data": {
      "image/png": "[encoded data removed]",
      "text/plain": [
       "<Figure size 1000x500 with 1 Axes>"
      ]
     },
     "metadata": {},
     "output_type": "display_data"
    }
   ],
   "source": [
    "#An unpivoted dataframe is created to understand the total proportion of words\n",
    "df_2i = pd.concat((word_detector(words, train['email']), \n",
    "                    train[['label']]), axis=1)\n",
    "df_2i = df_2i.melt('label')\n",
    "df_2i['value']=df_2i['value']*100\n",
    "\n",
    "df_2i['spam_label'] = np.where(df_2i['label'] == 0, 'non-spam', 'spam')\n",
    "\n",
    "#sns barplot is used to show the spam/non-spam proportion for the new words\n",
    "plt.figure(figsize=(10, 5))\n",
    "plt.title('Frequency of Words in Spam/Non-Spam Emails', fontsize=18)\n",
    "ax = sns.barplot(x=\"variable\", y='value', hue=\"spam_label\", data=df_2i, ci=None)\n",
    "ax.set_xlabel('Words', fontsize=18)\n",
    "ax.set_ylabel('Proportion of Emails %', fontsize=18)\n",
    "plt.show()"
   ]
  },
  {
   "cell_type": "markdown",
   "metadata": {
    "pycharm": {
     "name": "#%% md\n"
    }
   },
   "source": [
    "The words may not be sufficiently indicative of spam mails. From the plot, words like 'memo'have similar frequencies in both spam and non-spam emails while other words like drug, bank have slighly higher frequencies in spam emails but are still common in non-spam emails. These indicates that words alone might not be strong predictors of spam emails. The classifier may struggle to distinguish spam and non-spam emails based majorly on the presence or absence of these words. "
   ]
  },
  {
   "cell_type": "markdown",
   "metadata": {
    "pycharm": {
     "name": "#%% md\n"
    }
   },
   "source": [
    "## Question 2j\n",
    "Which of these two classifiers would you prefer for a `spam` filter and why? Describe your reasoning and relate it to at least one of the evaluation metrics `accuracy`, `precision`, `recall`, and `false-alarm rate` we have computed so far."
   ]
  },
  {
   "cell_type": "code",
   "execution_count": 153,
   "metadata": {},
   "outputs": [
    {
     "name": "stdout",
     "output_type": "stream",
     "text": [
      "Zero-predictor Accuracy 0.744\n",
      "Zero-predictor Precision: 0.000\n",
      "Zero-predictor Recall: 0.000\n",
      "Zero-predictor False Alarm Rate: 0.000\n",
      "\n",
      "Logistic Model Accuracy 0.757\n",
      "Logistic Model Precision: 0.651\n",
      "Logistic Model Recall: 0.112\n",
      "Logistic Model False Alarm Rate: 0.021\n"
     ]
    }
   ],
   "source": [
    "print('Zero-predictor Accuracy {:.3f}'.format(zero_predictor_accuracy))\n",
    "print('Zero-predictor Precision: {:.3f}'.format(zero_predictor_precision))\n",
    "print('Zero-predictor Recall: {:.3f}'.format(zero_predictor_recall))\n",
    "print('Zero-predictor False Alarm Rate: {:.3f}'.format(zero_predictor_far))\n",
    "\n",
    "print('\\nLogistic Model Accuracy {:.3f}'.format(lr_predictor_accuracy))\n",
    "print('Logistic Model Precision: {:.3f}'.format(lr_predictor_precision))\n",
    "print('Logistic Model Recall: {:.3f}'.format(lr_predictor_recall))\n",
    "print('Logistic Model False Alarm Rate: {:.3f}'.format(lr_predictor_far))"
   ]
  },
  {
   "cell_type": "code",
   "execution_count": null,
   "metadata": {},
   "outputs": [],
   "source": [
    "For a spam filter, I would prefer the Logistic Regression over the Zero Predictor because:\n",
    "\n",
    "1. Logistic Regression has a higher recall compared to Zero Predictor (which has 0 recall). This means Logistic Regression is more effective at detecting actual spam emails.\n",
    "2. Logistic Regression strives to balance precision and recall, whereas Zero Predictor has poor precision due to its simplistic approach.\n",
    "3. Logistic Regression tends to have a lower false alarm rate compared to Zero Predictor, reducing the number of legitimate emails misclassified as spam."
   ]
  },
  {
   "cell_type": "markdown",
   "metadata": {
    "pycharm": {
     "name": "#%% md\n"
    }
   },
   "source": [
    "## Build another Model\n",
    "We'll be comparing models in the next section, so let's create another one using the words from Question 1c `['body', 'business', 'html', 'money', 'offer', 'please']`."
   ]
  },
  {
   "cell_type": "code",
   "execution_count": 155,
   "metadata": {
    "pycharm": {
     "name": "#%%\n"
    }
   },
   "outputs": [
    {
     "name": "stdout",
     "output_type": "stream",
     "text": [
      "Accuracy 0.831\n",
      "Precision: 0.729\n",
      "Recall: 0.542\n",
      "False Alarm Rate: 0.069\n"
     ]
    }
   ],
   "source": [
    "# Define words\n",
    "words2 = ['body', 'business', 'html', 'money', 'offer', 'please']\n",
    "\n",
    "# Get train data\n",
    "X_train2 = word_detector(words2, train['email'])\n",
    "y_train2 = train[['label']]\n",
    "\n",
    "# Train model\n",
    "model2 = LogisticRegression()\n",
    "model2.fit(X_train2, y_train2)\n",
    "y_true2 = y_train2.values.flatten()\n",
    "\n",
    "# Print metrics\n",
    "print('Accuracy {:.3f}'.format(accuracy(y_true2, model2.predict(X_train2))))\n",
    "print('Precision: {:.3f}'.format(precision(y_true2, model2.predict(X_train2))))\n",
    "print('Recall: {:.3f}'.format(recall(y_true2, model2.predict(X_train2))))\n",
    "print('False Alarm Rate: {:.3f}'.format(false_alarm_rate(y_true2, model2.predict(X_train2))))"
   ]
  },
  {
   "cell_type": "markdown",
   "metadata": {
    "pycharm": {
     "name": "#%% md\n"
    }
   },
   "source": [
    "# 3. More Evaluation Metrics\n",
    "Ok, so we have `precision` and `recall`, which appear to be more useful for evaluating our model than `accuracy` when we have imbalanced data. In some applications, we may only care about `precision` or `recall`, however, what if we care about both? In this case, the `F-beta` metric is useful. `F-beta` is the harmonic mean of `precision` and `recall` and is expressed by the following equation.\n",
    "\n",
    "**$F_{\\beta} = (1 + \\beta^{2}) \\frac{precision * recall}{\\beta^{2} * precision + recall}$**\n",
    "\n",
    "When choosing beta in your `F-beta` score, the more you care about `recall` over `precision` the higher `beta` should be. For example, with the `F1` score, we care equally about `recall` and `precision`, however, with the `F2` score, `recall` is twice as important and `precision`. \n",
    "\n",
    "More generally, with 0 < `beta` < 1, we care more about `precision`and with `beta` > 1, we care more about `recall`.\n",
    "\n",
    "`F1` is the common form of `F-beta` and is widely used in many machine learning applications.\n",
    "\n",
    "**$F_{1} = 2 \\frac{precision * recall}{precision + recall}$**"
   ]
  },
  {
   "cell_type": "markdown",
   "metadata": {
    "pycharm": {
     "name": "#%% md\n"
    }
   },
   "source": [
    "## Question 3a\n",
    "Create a function `f_beta` that computes the `F-beta` score we defined above. You may want to use some of the functions you have already created."
   ]
  },
  {
   "cell_type": "code",
   "execution_count": 93,
   "metadata": {
    "pycharm": {
     "name": "#%%\n"
    }
   },
   "outputs": [],
   "source": [
    "def f_beta(y_true, y_pred, beta):\n",
    "    \n",
    "    \"\"\"\n",
    "    Returns the F-beta score.\n",
    "\n",
    "    Parameters:\n",
    "        y_true (1D numpy array): 1D array of true binary labels \n",
    "                                 np.array([0, 1, 0, 0, ..]).\n",
    "        y_pred (1D numpy array): 1D array of predicted binary labels \n",
    "                                 np.array([1, 0, 0, 1, ..]).\n",
    "        beta (float): The beta parameter for the F-beta metric.\n",
    "\n",
    "    Returns:\n",
    "        (float): The F-beta score.\n",
    "    \"\"\"\n",
    "    print (f_beta)\n",
    "    \n",
    "     # f_beta is calculated using beta value, and the precision and recall functions from earlier\n",
    "    f_beta_value = (1 + beta**2) * (precision(y_true,y_pred) * recall(y_true,y_pred)) / ( (beta**2)*precision(y_true,y_pred) + recall(y_true,y_pred))\n",
    "    \n",
    "    return f_beta_value"
   ]
  },
  {
   "cell_type": "code",
   "execution_count": 157,
   "metadata": {
    "pycharm": {
     "name": "#%%\n"
    }
   },
   "outputs": [
    {
     "name": "stdout",
     "output_type": "stream",
     "text": [
      "<function f_beta at 0x0000023589A74900>\n",
      "<function precision at 0x000002358A92DE40>\n",
      "Model 1\n",
      "words = ['drug', 'bank', 'prescription', 'memo', 'private']\n",
      "F1 Score: 0.191\n",
      "\n",
      "<function f_beta at 0x0000023589A74900>\n",
      "<function precision at 0x000002358A92DE40>\n",
      "Model 2\n",
      "words = ['body', 'business', 'html', 'money', 'offer', 'please']\n",
      "F1 Score: 0.622\n"
     ]
    }
   ],
   "source": [
    "# Print results\n",
    "print(\"Model 1\\nwords = {}\\nF1 Score: {:.3f}\\n\".format(words, f_beta(y_true, model.predict(X_train), beta=1)))\n",
    "print(\"Model 2\\nwords = {}\\nF1 Score: {:.3f}\".format(words2, f_beta(y_true2, model2.predict(X_train2), beta=1)))"
   ]
  },
  {
   "cell_type": "markdown",
   "metadata": {
    "pycharm": {
     "name": "#%% md\n"
    }
   },
   "source": [
    "Wow, thats a pretty significant difference in `F1` score between these two lists of words. \n",
    "\n",
    "### Probability Thresholds\n",
    "You'll notice that when computing our metrics, we used the `model.predict()` method. For our model, it predicts a `0` (`not-spam`) or `1` (`spam`) for a given array of features. Let's check out the `model.predict()` method."
   ]
  },
  {
   "cell_type": "code",
   "execution_count": 159,
   "metadata": {
    "pycharm": {
     "name": "#%%\n"
    }
   },
   "outputs": [
    {
     "data": {
      "text/plain": [
       "array([0, 0, 1, ..., 0, 0, 0], dtype=int64)"
      ]
     },
     "execution_count": 159,
     "metadata": {},
     "output_type": "execute_result"
    }
   ],
   "source": [
    "model.predict(X_train)"
   ]
  },
  {
   "cell_type": "markdown",
   "metadata": {
    "pycharm": {
     "name": "#%% md\n"
    }
   },
   "source": [
    "But, in your lecture, we learned that the output of the logistic model is a sigmoid function, which looks something like this."
   ]
  },
  {
   "cell_type": "code",
   "execution_count": 161,
   "metadata": {
    "pycharm": {
     "name": "#%%\n"
    }
   },
   "outputs": [
    {
     "data": {
      "image/png": "[encoded data removed]",
      "text/plain": [
       "<Figure size 640x480 with 1 Axes>"
      ]
     },
     "metadata": {},
     "output_type": "display_data"
    }
   ],
   "source": [
    "x_sigmoid = np.arange(-10, 10, 0.001)\n",
    "y_sigmoid = sigmoid(x_sigmoid)\n",
    "plt.plot(x_sigmoid, y_sigmoid, '-')\n",
    "plt.plot([-10, 10], [0.5, 0.5], lw=5)\n",
    "plt.xlabel('X', fontsize=16)\n",
    "plt.ylabel(r'$P(Y = 1 | x)$', fontsize=16);"
   ]
  },
  {
   "cell_type": "markdown",
   "metadata": {
    "pycharm": {
     "name": "#%% md\n"
    }
   },
   "source": [
    "When you use the `.predict()` method, `scikit-learn` automatically applied a threshold of `0.5`. So in the plot above, everything less than **X = 0** is classified as **y = 0** and everything greater than **X = 0** is classified as **y = 1**. However, the threshold is something we can tune to our specific use case.\n",
    "\n",
    "Take a minute and mess around with the interactive visualization below to gain an understanding for how the choice of your threshold can impact our metrics `accuracy`, `precision`, and `recall`. I have created a dummy dataset with one feature `the number of word counts for \"body\"` and a logistic model that predicts the probability of an email being `spam` given the `\"body\"` count."
   ]
  },
  {
   "cell_type": "code",
   "execution_count": 101,
   "metadata": {
    "pycharm": {
     "name": "#%%\n"
    }
   },
   "outputs": [
    {
     "data": {
      "application/vnd.jupyter.widget-view+json": {
       "model_id": "7810b0e4e4bc4e589cbca1816a1643dd",
       "version_major": 2,
       "version_minor": 0
      },
      "text/plain": [
       "interactive(children=(IntSlider(value=50, description='threshold'), Output()), _dom_classes=('widget-interact'…"
      ]
     },
     "metadata": {},
     "output_type": "display_data"
    }
   ],
   "source": [
    "threshold_prediction_plot()"
   ]
  },
  {
   "cell_type": "markdown",
   "metadata": {
    "pycharm": {
     "name": "#%% md\n"
    }
   },
   "source": [
    "Depending on what is important to us, we can set the threhold. For example, if we want a model with high precision, a threshold of `0.8` would work."
   ]
  },
  {
   "cell_type": "code",
   "execution_count": 103,
   "metadata": {
    "pycharm": {
     "name": "#%%\n"
    }
   },
   "outputs": [
    {
     "data": {
      "application/vnd.jupyter.widget-view+json": {
       "model_id": "0eb661164d804927b14c91e662389321",
       "version_major": 2,
       "version_minor": 0
      },
      "text/plain": [
       "interactive(children=(IntSlider(value=80, description='threshold'), Output()), _dom_classes=('widget-interact'…"
      ]
     },
     "metadata": {},
     "output_type": "display_data"
    }
   ],
   "source": [
    "threshold_prediction_plot(0.8)"
   ]
  },
  {
   "cell_type": "markdown",
   "metadata": {
    "pycharm": {
     "name": "#%% md\n"
    }
   },
   "source": [
    "However, if recall is important, a threshold of `0.1` might work better. "
   ]
  },
  {
   "cell_type": "code",
   "execution_count": null,
   "metadata": {
    "pycharm": {
     "name": "#%%\n"
    }
   },
   "outputs": [],
   "source": [
    "threshold_prediction_plot(0.1)"
   ]
  },
  {
   "cell_type": "markdown",
   "metadata": {
    "pycharm": {
     "name": "#%% md\n"
    }
   },
   "source": [
    "So, how do we access these probabilities? We can use the `model.predict_proba()` method."
   ]
  },
  {
   "cell_type": "code",
   "execution_count": 163,
   "metadata": {
    "pycharm": {
     "name": "#%%\n"
    }
   },
   "outputs": [
    {
     "data": {
      "text/plain": [
       "array([[0.76423335, 0.23576665],\n",
       "       [0.76423335, 0.23576665],\n",
       "       [0.43326393, 0.56673607],\n",
       "       ...,\n",
       "       [0.76423335, 0.23576665],\n",
       "       [0.76423335, 0.23576665],\n",
       "       [0.76423335, 0.23576665]])"
      ]
     },
     "execution_count": 163,
     "metadata": {},
     "output_type": "execute_result"
    }
   ],
   "source": [
    "model.predict_proba(X_train)"
   ]
  },
  {
   "cell_type": "markdown",
   "metadata": {
    "pycharm": {
     "name": "#%% md\n"
    }
   },
   "source": [
    "`model.predict_proba()` returns the probability of the sample for each class in the model, where classes are ordered as they are in `model.classes_`."
   ]
  },
  {
   "cell_type": "code",
   "execution_count": 107,
   "metadata": {
    "pycharm": {
     "name": "#%%\n"
    }
   },
   "outputs": [
    {
     "data": {
      "text/plain": [
       "array([0, 1], dtype=int64)"
      ]
     },
     "execution_count": 107,
     "metadata": {},
     "output_type": "execute_result"
    }
   ],
   "source": [
    "model.classes_"
   ]
  },
  {
   "cell_type": "markdown",
   "metadata": {
    "pycharm": {
     "name": "#%% md\n"
    }
   },
   "source": [
    "So, the first column of `model.predict_proba(X_train)` is the probability of **0** `not-spam` and the second column is the probability of **1** `spam`. You notice that because there are only two classes, the sum of the first and second columns equals 1."
   ]
  },
  {
   "cell_type": "code",
   "execution_count": 165,
   "metadata": {
    "pycharm": {
     "name": "#%%\n"
    }
   },
   "outputs": [
    {
     "data": {
      "text/plain": [
       "1.0"
      ]
     },
     "execution_count": 165,
     "metadata": {},
     "output_type": "execute_result"
    }
   ],
   "source": [
    "model.predict_proba(X_train)[0, 0] + model.predict_proba(X_train)[0, 1]"
   ]
  },
  {
   "cell_type": "markdown",
   "metadata": {
    "pycharm": {
     "name": "#%% md\n"
    }
   },
   "source": [
    "### Precision-Recall Curve\n",
    "A useful visualization for understanding the trade-off between `precision` and `recall` is the `Precision-Recall (PR) Curve`. The `PR Curve` is a curve that combines `precision` and `recall` in a single visualization. For every threshold, you calculate `precision` and `recall` and plot it. The closer to the upper-right corner, the better your more is.\n",
    "\n",
    "You can use this plot to make an educated decision when it comes to the `precision-recall` trade-off, where the higher the `recall` the lower the `precision`. Knowing at which `recall` your `precision` starts to fall fast can help you choose an optimal `threshold` and deliver a better model.\n",
    "\n",
    "Spend some time playing with the interactive visualization below which displays the `PR Curve` for model 1 and model 2."
   ]
  },
  {
   "cell_type": "code",
   "execution_count": 167,
   "metadata": {
    "pycharm": {
     "name": "#%%\n"
    }
   },
   "outputs": [
    {
     "data": {
      "text/html": [
       "        <script type=\"text/javascript\">\n",
       "        window.PlotlyConfig = {MathJaxConfig: 'local'};\n",
       "        if (window.MathJax && window.MathJax.Hub && window.MathJax.Hub.Config) {window.MathJax.Hub.Config({SVG: {font: \"STIX-Web\"}});}\n",
       "        if (typeof require !== 'undefined') {\n",
       "        require.undef(\"plotly\");\n",
       "        requirejs.config({\n",
       "            paths: {\n",
       "                'plotly': ['https://cdn.plot.ly/plotly-2.32.0.min']\n",
       "            }\n",
       "        });\n",
       "        require(['plotly'], function(Plotly) {\n",
       "            window._Plotly = Plotly;\n",
       "        });\n",
       "        }\n",
       "        </script>\n",
       "        "
      ]
     },
     "metadata": {},
     "output_type": "display_data"
    },
    {
     "data": {
      "application/vnd.plotly.v1+json": {
       "config": {
        "linkText": "Export to plot.ly",
        "plotlyServerURL": "https://plot.ly",
        "showLink": false
       },
       "data": [
        {
         "hovertemplate": "Precision=%{y}<br>Recall=%{x}<br>Threshold=%{hovertext}",
         "hovertext": [
          0.13398519700567185,
          0.18392951592685244,
          0.23576664844536946,
          0.2849734237717876,
          0.3100670038264264,
          0.39613504311261966,
          0.442805994343501,
          0.5667360673759478,
          0.6138642290789793,
          0.6282352583205355,
          0.6851415322924661,
          0.7111299067163918,
          0.7601909686655904,
          0.7711463595663764,
          0.8307595727645386,
          0.8486113706359681,
          0.9596248664506608,
          0.9719291959238405,
          1
         ],
         "mode": "lines",
         "name": "Model 1",
         "type": "scatter",
         "x": [
          1,
          0.9734564339296018,
          0.9734564339296018,
          0.18234275822273513,
          0.18118869013271782,
          0.17080207732256203,
          0.16964800923254472,
          0.11194460473167916,
          0.04270051933064051,
          0.04270051933064051,
          0.04270051933064051,
          0.03923831506058857,
          0.038084246970571264,
          0.023658395845354875,
          0.005770340450086555,
          0.0051933064050779,
          0.004616272360069244,
          0.004039238315060588,
          0
         ],
         "y": [
          0.2563230291377015,
          0.25917959748041175,
          0.2592991085152167,
          0.5573192239858906,
          0.564748201438849,
          0.588469184890656,
          0.593939393939394,
          0.6510067114093959,
          0.6727272727272727,
          0.6851851851851852,
          0.7956989247311828,
          0.8095238095238095,
          0.8048780487804879,
          0.7735849056603774,
          0.7142857142857143,
          1,
          1,
          1,
          1
         ]
        },
        {
         "hovertemplate": "Precision=%{y}<br>Recall=%{x}<br>Threshold=%{hovertext}",
         "hovertext": [
          0.08241274632587925,
          0.10452485276010572,
          0.1513392434667059,
          0.15752294509191528,
          0.18064706688156537,
          0.18815282202860328,
          0.1905064850986272,
          0.19549422039207467,
          0.22271887971412624,
          0.23421811924026928,
          0.27073369607327247,
          0.30447082172249923,
          0.3145920610770415,
          0.31846163586914317,
          0.32545255195739814,
          0.328828079399072,
          0.33775164373552985,
          0.36261787996781525,
          0.36616963039670747,
          0.373633691316984,
          0.37782916363235713,
          0.3890250319042388,
          0.39861199124668534,
          0.42883480433322685,
          0.47680031053089006,
          0.49309587306654906,
          0.5031355075989249,
          0.5149711390935883,
          0.5342431440388257,
          0.5422024803743637,
          0.5460064007067146,
          0.5559418196161081,
          0.5583478807563186,
          0.5682267931818018,
          0.5719851733179809,
          0.579806820716994,
          0.5985111261721814,
          0.6098366319396984,
          0.6193490087930797,
          0.6346071790909191,
          0.6782572788297361,
          0.704832999794489,
          0.7131188451587688,
          0.7227092338009163,
          0.7262794635547954,
          0.7325996543993468,
          0.7355930203033082,
          0.7562995200664221,
          0.7636251285594702,
          0.7663819383989542,
          0.7720667670068463,
          0.7751991722626622,
          0.7833447411542765,
          0.8100093691659899,
          0.8380530130523316,
          0.846714256715416,
          0.866904867529847,
          0.870556737912647,
          0.8722750147086591,
          0.8777332348515177,
          0.894347883345175,
          0.8987400913630046,
          0.9313169589229265,
          0.9463014571464027,
          1
         ],
         "mode": "lines",
         "name": "Model 2",
         "type": "scatter",
         "x": [
          1,
          0.8938257357184074,
          0.8851702250432776,
          0.8742065781881131,
          0.860934795152914,
          0.7974610502019619,
          0.7934218118869013,
          0.7888055395268321,
          0.7778418926716676,
          0.7709174841315638,
          0.7697634160415464,
          0.7645701096364685,
          0.7634160415464513,
          0.758799769186382,
          0.7564916330063474,
          0.7484131563762262,
          0.7461050201961916,
          0.6970571263704558,
          0.6970571263704558,
          0.5839584535487594,
          0.5833814195037508,
          0.5822273514137334,
          0.5799192152336988,
          0.5574148874783612,
          0.5424120023081361,
          0.5424120023081361,
          0.5424120023081361,
          0.4979803808424697,
          0.4708597807270629,
          0.4345066358915176,
          0.4333525678015003,
          0.4252740911713791,
          0.41142527409117136,
          0.4108482400461627,
          0.3993075591459896,
          0.39238315060588574,
          0.363531448355453,
          0.3594922100403924,
          0.35199076745527985,
          0.346797461050202,
          0.3427582227351414,
          0.33929601846508944,
          0.3317945758799769,
          0.32025389497980383,
          0.3139065204847086,
          0.3110213502596653,
          0.29486439699942296,
          0.293133294864397,
          0.2787074437391806,
          0.2775533756491633,
          0.17311021350259664,
          0.17311021350259664,
          0.16907097518753605,
          0.16560877091748413,
          0.14310444316214657,
          0.1413733410271206,
          0.1402192729371033,
          0.07789959607616849,
          0.0738603577611079,
          0.06405077899596076,
          0.06231967686093479,
          0.040392383150605886,
          0.027697634160415464,
          0.015002885170225043,
          0
         ],
         "y": [
          0.2563230291377015,
          0.44383954154727795,
          0.45873205741626794,
          0.463302752293578,
          0.469329977980497,
          0.5581583198707593,
          0.5591703944692965,
          0.6051350154935813,
          0.6072072072072072,
          0.6185185185185185,
          0.6204651162790698,
          0.6238229755178908,
          0.6294005708848716,
          0.6328200192492781,
          0.6345595353339787,
          0.6329917032698877,
          0.638203356367226,
          0.6986697513013302,
          0.7027341477603257,
          0.716206652512385,
          0.7195729537366548,
          0.7212294496068621,
          0.7245854361932228,
          0.7225130890052356,
          0.7264296754250387,
          0.7275541795665634,
          0.7292474786656322,
          0.7191666666666666,
          0.7101827676240209,
          0.7083725305738476,
          0.7084905660377359,
          0.710019267822736,
          0.7290388548057259,
          0.731006160164271,
          0.726890756302521,
          0.7351351351351352,
          0.7233065442020666,
          0.7416666666666667,
          0.741190765492102,
          0.746583850931677,
          0.7471698113207547,
          0.7490445859872611,
          0.7457846952010376,
          0.7429718875502008,
          0.7431693989071039,
          0.743448275862069,
          0.733142037302726,
          0.733044733044733,
          0.7263157894736842,
          0.7276853252647504,
          0.6711409395973155,
          0.683371298405467,
          0.679814385150812,
          0.6866028708133971,
          0.6813186813186813,
          0.6786703601108033,
          0.6787709497206704,
          0.5625,
          0.5589519650655022,
          0.5336538461538461,
          0.5346534653465347,
          0.49295774647887325,
          0.43243243243243246,
          0.4727272727272727,
          1
         ]
        }
       ],
       "layout": {
        "autosize": true,
        "hovermode": "closest",
        "template": {
         "data": {
          "bar": [
           {
            "error_x": {
             "color": "#2a3f5f"
            },
            "error_y": {
             "color": "#2a3f5f"
            },
            "marker": {
             "line": {
              "color": "#E5ECF6",
              "width": 0.5
             },
             "pattern": {
              "fillmode": "overlay",
              "size": 10,
              "solidity": 0.2
             }
            },
            "type": "bar"
           }
          ],
          "barpolar": [
           {
            "marker": {
             "line": {
              "color": "#E5ECF6",
              "width": 0.5
             },
             "pattern": {
              "fillmode": "overlay",
              "size": 10,
              "solidity": 0.2
             }
            },
            "type": "barpolar"
           }
          ],
          "carpet": [
           {
            "aaxis": {
             "endlinecolor": "#2a3f5f",
             "gridcolor": "white",
             "linecolor": "white",
             "minorgridcolor": "white",
             "startlinecolor": "#2a3f5f"
            },
            "baxis": {
             "endlinecolor": "#2a3f5f",
             "gridcolor": "white",
             "linecolor": "white",
             "minorgridcolor": "white",
             "startlinecolor": "#2a3f5f"
            },
            "type": "carpet"
           }
          ],
          "choropleth": [
           {
            "colorbar": {
             "outlinewidth": 0,
             "ticks": ""
            },
            "type": "choropleth"
           }
          ],
          "contour": [
           {
            "colorbar": {
             "outlinewidth": 0,
             "ticks": ""
            },
            "colorscale": [
             [
              0,
              "#0d0887"
             ],
             [
              0.1111111111111111,
              "#46039f"
             ],
             [
              0.2222222222222222,
              "#7201a8"
             ],
             [
              0.3333333333333333,
              "#9c179e"
             ],
             [
              0.4444444444444444,
              "#bd3786"
             ],
             [
              0.5555555555555556,
              "#d8576b"
             ],
             [
              0.6666666666666666,
              "#ed7953"
             ],
             [
              0.7777777777777778,
              "#fb9f3a"
             ],
             [
              0.8888888888888888,
              "#fdca26"
             ],
             [
              1,
              "#f0f921"
             ]
            ],
            "type": "contour"
           }
          ],
          "contourcarpet": [
           {
            "colorbar": {
             "outlinewidth": 0,
             "ticks": ""
            },
            "type": "contourcarpet"
           }
          ],
          "heatmap": [
           {
            "colorbar": {
             "outlinewidth": 0,
             "ticks": ""
            },
            "colorscale": [
             [
              0,
              "#0d0887"
             ],
             [
              0.1111111111111111,
              "#46039f"
             ],
             [
              0.2222222222222222,
              "#7201a8"
             ],
             [
              0.3333333333333333,
              "#9c179e"
             ],
             [
              0.4444444444444444,
              "#bd3786"
             ],
             [
              0.5555555555555556,
              "#d8576b"
             ],
             [
              0.6666666666666666,
              "#ed7953"
             ],
             [
              0.7777777777777778,
              "#fb9f3a"
             ],
             [
              0.8888888888888888,
              "#fdca26"
             ],
             [
              1,
              "#f0f921"
             ]
            ],
            "type": "heatmap"
           }
          ],
          "heatmapgl": [
           {
            "colorbar": {
             "outlinewidth": 0,
             "ticks": ""
            },
            "colorscale": [
             [
              0,
              "#0d0887"
             ],
             [
              0.1111111111111111,
              "#46039f"
             ],
             [
              0.2222222222222222,
              "#7201a8"
             ],
             [
              0.3333333333333333,
              "#9c179e"
             ],
             [
              0.4444444444444444,
              "#bd3786"
             ],
             [
              0.5555555555555556,
              "#d8576b"
             ],
             [
              0.6666666666666666,
              "#ed7953"
             ],
             [
              0.7777777777777778,
              "#fb9f3a"
             ],
             [
              0.8888888888888888,
              "#fdca26"
             ],
             [
              1,
              "#f0f921"
             ]
            ],
            "type": "heatmapgl"
           }
          ],
          "histogram": [
           {
            "marker": {
             "pattern": {
              "fillmode": "overlay",
              "size": 10,
              "solidity": 0.2
             }
            },
            "type": "histogram"
           }
          ],
          "histogram2d": [
           {
            "colorbar": {
             "outlinewidth": 0,
             "ticks": ""
            },
            "colorscale": [
             [
              0,
              "#0d0887"
             ],
             [
              0.1111111111111111,
              "#46039f"
             ],
             [
              0.2222222222222222,
              "#7201a8"
             ],
             [
              0.3333333333333333,
              "#9c179e"
             ],
             [
              0.4444444444444444,
              "#bd3786"
             ],
             [
              0.5555555555555556,
              "#d8576b"
             ],
             [
              0.6666666666666666,
              "#ed7953"
             ],
             [
              0.7777777777777778,
              "#fb9f3a"
             ],
             [
              0.8888888888888888,
              "#fdca26"
             ],
             [
              1,
              "#f0f921"
             ]
            ],
            "type": "histogram2d"
           }
          ],
          "histogram2dcontour": [
           {
            "colorbar": {
             "outlinewidth": 0,
             "ticks": ""
            },
            "colorscale": [
             [
              0,
              "#0d0887"
             ],
             [
              0.1111111111111111,
              "#46039f"
             ],
             [
              0.2222222222222222,
              "#7201a8"
             ],
             [
              0.3333333333333333,
              "#9c179e"
             ],
             [
              0.4444444444444444,
              "#bd3786"
             ],
             [
              0.5555555555555556,
              "#d8576b"
             ],
             [
              0.6666666666666666,
              "#ed7953"
             ],
             [
              0.7777777777777778,
              "#fb9f3a"
             ],
             [
              0.8888888888888888,
              "#fdca26"
             ],
             [
              1,
              "#f0f921"
             ]
            ],
            "type": "histogram2dcontour"
           }
          ],
          "mesh3d": [
           {
            "colorbar": {
             "outlinewidth": 0,
             "ticks": ""
            },
            "type": "mesh3d"
           }
          ],
          "parcoords": [
           {
            "line": {
             "colorbar": {
              "outlinewidth": 0,
              "ticks": ""
             }
            },
            "type": "parcoords"
           }
          ],
          "pie": [
           {
            "automargin": true,
            "type": "pie"
           }
          ],
          "scatter": [
           {
            "fillpattern": {
             "fillmode": "overlay",
             "size": 10,
             "solidity": 0.2
            },
            "type": "scatter"
           }
          ],
          "scatter3d": [
           {
            "line": {
             "colorbar": {
              "outlinewidth": 0,
              "ticks": ""
             }
            },
            "marker": {
             "colorbar": {
              "outlinewidth": 0,
              "ticks": ""
             }
            },
            "type": "scatter3d"
           }
          ],
          "scattercarpet": [
           {
            "marker": {
             "colorbar": {
              "outlinewidth": 0,
              "ticks": ""
             }
            },
            "type": "scattercarpet"
           }
          ],
          "scattergeo": [
           {
            "marker": {
             "colorbar": {
              "outlinewidth": 0,
              "ticks": ""
             }
            },
            "type": "scattergeo"
           }
          ],
          "scattergl": [
           {
            "marker": {
             "colorbar": {
              "outlinewidth": 0,
              "ticks": ""
             }
            },
            "type": "scattergl"
           }
          ],
          "scattermapbox": [
           {
            "marker": {
             "colorbar": {
              "outlinewidth": 0,
              "ticks": ""
             }
            },
            "type": "scattermapbox"
           }
          ],
          "scatterpolar": [
           {
            "marker": {
             "colorbar": {
              "outlinewidth": 0,
              "ticks": ""
             }
            },
            "type": "scatterpolar"
           }
          ],
          "scatterpolargl": [
           {
            "marker": {
             "colorbar": {
              "outlinewidth": 0,
              "ticks": ""
             }
            },
            "type": "scatterpolargl"
           }
          ],
          "scatterternary": [
           {
            "marker": {
             "colorbar": {
              "outlinewidth": 0,
              "ticks": ""
             }
            },
            "type": "scatterternary"
           }
          ],
          "surface": [
           {
            "colorbar": {
             "outlinewidth": 0,
             "ticks": ""
            },
            "colorscale": [
             [
              0,
              "#0d0887"
             ],
             [
              0.1111111111111111,
              "#46039f"
             ],
             [
              0.2222222222222222,
              "#7201a8"
             ],
             [
              0.3333333333333333,
              "#9c179e"
             ],
             [
              0.4444444444444444,
              "#bd3786"
             ],
             [
              0.5555555555555556,
              "#d8576b"
             ],
             [
              0.6666666666666666,
              "#ed7953"
             ],
             [
              0.7777777777777778,
              "#fb9f3a"
             ],
             [
              0.8888888888888888,
              "#fdca26"
             ],
             [
              1,
              "#f0f921"
             ]
            ],
            "type": "surface"
           }
          ],
          "table": [
           {
            "cells": {
             "fill": {
              "color": "#EBF0F8"
             },
             "line": {
              "color": "white"
             }
            },
            "header": {
             "fill": {
              "color": "#C8D4E3"
             },
             "line": {
              "color": "white"
             }
            },
            "type": "table"
           }
          ]
         },
         "layout": {
          "annotationdefaults": {
           "arrowcolor": "#2a3f5f",
           "arrowhead": 0,
           "arrowwidth": 1
          },
          "autotypenumbers": "strict",
          "coloraxis": {
           "colorbar": {
            "outlinewidth": 0,
            "ticks": ""
           }
          },
          "colorscale": {
           "diverging": [
            [
             0,
             "#8e0152"
            ],
            [
             0.1,
             "#c51b7d"
            ],
            [
             0.2,
             "#de77ae"
            ],
            [
             0.3,
             "#f1b6da"
            ],
            [
             0.4,
             "#fde0ef"
            ],
            [
             0.5,
             "#f7f7f7"
            ],
            [
             0.6,
             "#e6f5d0"
            ],
            [
             0.7,
             "#b8e186"
            ],
            [
             0.8,
             "#7fbc41"
            ],
            [
             0.9,
             "#4d9221"
            ],
            [
             1,
             "#276419"
            ]
           ],
           "sequential": [
            [
             0,
             "#0d0887"
            ],
            [
             0.1111111111111111,
             "#46039f"
            ],
            [
             0.2222222222222222,
             "#7201a8"
            ],
            [
             0.3333333333333333,
             "#9c179e"
            ],
            [
             0.4444444444444444,
             "#bd3786"
            ],
            [
             0.5555555555555556,
             "#d8576b"
            ],
            [
             0.6666666666666666,
             "#ed7953"
            ],
            [
             0.7777777777777778,
             "#fb9f3a"
            ],
            [
             0.8888888888888888,
             "#fdca26"
            ],
            [
             1,
             "#f0f921"
            ]
           ],
           "sequentialminus": [
            [
             0,
             "#0d0887"
            ],
            [
             0.1111111111111111,
             "#46039f"
            ],
            [
             0.2222222222222222,
             "#7201a8"
            ],
            [
             0.3333333333333333,
             "#9c179e"
            ],
            [
             0.4444444444444444,
             "#bd3786"
            ],
            [
             0.5555555555555556,
             "#d8576b"
            ],
            [
             0.6666666666666666,
             "#ed7953"
            ],
            [
             0.7777777777777778,
             "#fb9f3a"
            ],
            [
             0.8888888888888888,
             "#fdca26"
            ],
            [
             1,
             "#f0f921"
            ]
           ]
          },
          "colorway": [
           "#636efa",
           "#EF553B",
           "#00cc96",
           "#ab63fa",
           "#FFA15A",
           "#19d3f3",
           "#FF6692",
           "#B6E880",
           "#FF97FF",
           "#FECB52"
          ],
          "font": {
           "color": "#2a3f5f"
          },
          "geo": {
           "bgcolor": "white",
           "lakecolor": "white",
           "landcolor": "#E5ECF6",
           "showlakes": true,
           "showland": true,
           "subunitcolor": "white"
          },
          "hoverlabel": {
           "align": "left"
          },
          "hovermode": "closest",
          "mapbox": {
           "style": "light"
          },
          "paper_bgcolor": "white",
          "plot_bgcolor": "#E5ECF6",
          "polar": {
           "angularaxis": {
            "gridcolor": "white",
            "linecolor": "white",
            "ticks": ""
           },
           "bgcolor": "#E5ECF6",
           "radialaxis": {
            "gridcolor": "white",
            "linecolor": "white",
            "ticks": ""
           }
          },
          "scene": {
           "xaxis": {
            "backgroundcolor": "#E5ECF6",
            "gridcolor": "white",
            "gridwidth": 2,
            "linecolor": "white",
            "showbackground": true,
            "ticks": "",
            "zerolinecolor": "white"
           },
           "yaxis": {
            "backgroundcolor": "#E5ECF6",
            "gridcolor": "white",
            "gridwidth": 2,
            "linecolor": "white",
            "showbackground": true,
            "ticks": "",
            "zerolinecolor": "white"
           },
           "zaxis": {
            "backgroundcolor": "#E5ECF6",
            "gridcolor": "white",
            "gridwidth": 2,
            "linecolor": "white",
            "showbackground": true,
            "ticks": "",
            "zerolinecolor": "white"
           }
          },
          "shapedefaults": {
           "line": {
            "color": "#2a3f5f"
           }
          },
          "ternary": {
           "aaxis": {
            "gridcolor": "white",
            "linecolor": "white",
            "ticks": ""
           },
           "baxis": {
            "gridcolor": "white",
            "linecolor": "white",
            "ticks": ""
           },
           "bgcolor": "#E5ECF6",
           "caxis": {
            "gridcolor": "white",
            "linecolor": "white",
            "ticks": ""
           }
          },
          "title": {
           "x": 0.05
          },
          "xaxis": {
           "automargin": true,
           "gridcolor": "white",
           "linecolor": "white",
           "ticks": "",
           "title": {
            "standoff": 15
           },
           "zerolinecolor": "white",
           "zerolinewidth": 2
          },
          "yaxis": {
           "automargin": true,
           "gridcolor": "white",
           "linecolor": "white",
           "ticks": "",
           "title": {
            "standoff": 15
           },
           "zerolinecolor": "white",
           "zerolinewidth": 2
          }
         }
        },
        "title": {
         "text": "Precision-Recall Curve"
        },
        "xaxis": {
         "autorange": true,
         "range": [
          0,
          1
         ],
         "title": {
          "text": "Recall"
         },
         "type": "linear"
        },
        "yaxis": {
         "autorange": true,
         "range": [
          0.2150076418675738,
          1.0413153872701277
         ],
         "title": {
          "text": "Precision"
         },
         "type": "linear"
        }
       }
      },
      "image/png": "[encoded data removed]",
      "text/html": [
       "<div>                            <div id=\"6f3fcc79-7c26-441c-8ab1-5bed13b72443\" class=\"plotly-graph-div\" style=\"height:525px; width:100%;\"></div>            <script type=\"text/javascript\">                require([\"plotly\"], function(Plotly) {                    window.PLOTLYENV=window.PLOTLYENV || {};                                    if (document.getElementById(\"6f3fcc79-7c26-441c-8ab1-5bed13b72443\")) {                    Plotly.newPlot(                        \"6f3fcc79-7c26-441c-8ab1-5bed13b72443\",                        [{\"hovertemplate\":\"Precision=%{y}\\u003cbr\\u003eRecall=%{x}\\u003cbr\\u003eThreshold=%{hovertext}\",\"hovertext\":[0.13398519700567185,0.18392951592685244,0.23576664844536946,0.2849734237717876,0.3100670038264264,0.39613504311261966,0.442805994343501,0.5667360673759478,0.6138642290789793,0.6282352583205355,0.6851415322924661,0.7111299067163918,0.7601909686655904,0.7711463595663764,0.8307595727645386,0.8486113706359681,0.9596248664506608,0.9719291959238405,1.0],\"mode\":\"lines\",\"name\":\"Model 1\",\"x\":[1.0,0.9734564339296018,0.9734564339296018,0.18234275822273513,0.18118869013271782,0.17080207732256203,0.16964800923254472,0.11194460473167916,0.04270051933064051,0.04270051933064051,0.04270051933064051,0.03923831506058857,0.038084246970571264,0.023658395845354875,0.005770340450086555,0.0051933064050779,0.004616272360069244,0.004039238315060588,0.0],\"y\":[0.2563230291377015,0.25917959748041175,0.2592991085152167,0.5573192239858906,0.564748201438849,0.588469184890656,0.593939393939394,0.6510067114093959,0.6727272727272727,0.6851851851851852,0.7956989247311828,0.8095238095238095,0.8048780487804879,0.7735849056603774,0.7142857142857143,1.0,1.0,1.0,1.0],\"type\":\"scatter\"},{\"hovertemplate\":\"Precision=%{y}\\u003cbr\\u003eRecall=%{x}\\u003cbr\\u003eThreshold=%{hovertext}\",\"hovertext\":[0.08241274632587925,0.10452485276010572,0.1513392434667059,0.15752294509191528,0.18064706688156537,0.18815282202860328,0.1905064850986272,0.19549422039207467,0.22271887971412624,0.23421811924026928,0.27073369607327247,0.30447082172249923,0.3145920610770415,0.31846163586914317,0.32545255195739814,0.328828079399072,0.33775164373552985,0.36261787996781525,0.36616963039670747,0.373633691316984,0.37782916363235713,0.3890250319042388,0.39861199124668534,0.42883480433322685,0.47680031053089006,0.49309587306654906,0.5031355075989249,0.5149711390935883,0.5342431440388257,0.5422024803743637,0.5460064007067146,0.5559418196161081,0.5583478807563186,0.5682267931818018,0.5719851733179809,0.579806820716994,0.5985111261721814,0.6098366319396984,0.6193490087930797,0.6346071790909191,0.6782572788297361,0.704832999794489,0.7131188451587688,0.7227092338009163,0.7262794635547954,0.7325996543993468,0.7355930203033082,0.7562995200664221,0.7636251285594702,0.7663819383989542,0.7720667670068463,0.7751991722626622,0.7833447411542765,0.8100093691659899,0.8380530130523316,0.846714256715416,0.866904867529847,0.870556737912647,0.8722750147086591,0.8777332348515177,0.894347883345175,0.8987400913630046,0.9313169589229265,0.9463014571464027,1.0],\"mode\":\"lines\",\"name\":\"Model 2\",\"x\":[1.0,0.8938257357184074,0.8851702250432776,0.8742065781881131,0.860934795152914,0.7974610502019619,0.7934218118869013,0.7888055395268321,0.7778418926716676,0.7709174841315638,0.7697634160415464,0.7645701096364685,0.7634160415464513,0.758799769186382,0.7564916330063474,0.7484131563762262,0.7461050201961916,0.6970571263704558,0.6970571263704558,0.5839584535487594,0.5833814195037508,0.5822273514137334,0.5799192152336988,0.5574148874783612,0.5424120023081361,0.5424120023081361,0.5424120023081361,0.4979803808424697,0.4708597807270629,0.4345066358915176,0.4333525678015003,0.4252740911713791,0.41142527409117136,0.4108482400461627,0.3993075591459896,0.39238315060588574,0.363531448355453,0.3594922100403924,0.35199076745527985,0.346797461050202,0.3427582227351414,0.33929601846508944,0.3317945758799769,0.32025389497980383,0.3139065204847086,0.3110213502596653,0.29486439699942296,0.293133294864397,0.2787074437391806,0.2775533756491633,0.17311021350259664,0.17311021350259664,0.16907097518753605,0.16560877091748413,0.14310444316214657,0.1413733410271206,0.1402192729371033,0.07789959607616849,0.0738603577611079,0.06405077899596076,0.06231967686093479,0.040392383150605886,0.027697634160415464,0.015002885170225043,0.0],\"y\":[0.2563230291377015,0.44383954154727795,0.45873205741626794,0.463302752293578,0.469329977980497,0.5581583198707593,0.5591703944692965,0.6051350154935813,0.6072072072072072,0.6185185185185185,0.6204651162790698,0.6238229755178908,0.6294005708848716,0.6328200192492781,0.6345595353339787,0.6329917032698877,0.638203356367226,0.6986697513013302,0.7027341477603257,0.716206652512385,0.7195729537366548,0.7212294496068621,0.7245854361932228,0.7225130890052356,0.7264296754250387,0.7275541795665634,0.7292474786656322,0.7191666666666666,0.7101827676240209,0.7083725305738476,0.7084905660377359,0.710019267822736,0.7290388548057259,0.731006160164271,0.726890756302521,0.7351351351351352,0.7233065442020666,0.7416666666666667,0.741190765492102,0.746583850931677,0.7471698113207547,0.7490445859872611,0.7457846952010376,0.7429718875502008,0.7431693989071039,0.743448275862069,0.733142037302726,0.733044733044733,0.7263157894736842,0.7276853252647504,0.6711409395973155,0.683371298405467,0.679814385150812,0.6866028708133971,0.6813186813186813,0.6786703601108033,0.6787709497206704,0.5625,0.5589519650655022,0.5336538461538461,0.5346534653465347,0.49295774647887325,0.43243243243243246,0.4727272727272727,1.0],\"type\":\"scatter\"}],                        {\"hovermode\":\"closest\",\"template\":{\"data\":{\"barpolar\":[{\"marker\":{\"line\":{\"color\":\"#E5ECF6\",\"width\":0.5},\"pattern\":{\"fillmode\":\"overlay\",\"size\":10,\"solidity\":0.2}},\"type\":\"barpolar\"}],\"bar\":[{\"error_x\":{\"color\":\"#2a3f5f\"},\"error_y\":{\"color\":\"#2a3f5f\"},\"marker\":{\"line\":{\"color\":\"#E5ECF6\",\"width\":0.5},\"pattern\":{\"fillmode\":\"overlay\",\"size\":10,\"solidity\":0.2}},\"type\":\"bar\"}],\"carpet\":[{\"aaxis\":{\"endlinecolor\":\"#2a3f5f\",\"gridcolor\":\"white\",\"linecolor\":\"white\",\"minorgridcolor\":\"white\",\"startlinecolor\":\"#2a3f5f\"},\"baxis\":{\"endlinecolor\":\"#2a3f5f\",\"gridcolor\":\"white\",\"linecolor\":\"white\",\"minorgridcolor\":\"white\",\"startlinecolor\":\"#2a3f5f\"},\"type\":\"carpet\"}],\"choropleth\":[{\"colorbar\":{\"outlinewidth\":0,\"ticks\":\"\"},\"type\":\"choropleth\"}],\"contourcarpet\":[{\"colorbar\":{\"outlinewidth\":0,\"ticks\":\"\"},\"type\":\"contourcarpet\"}],\"contour\":[{\"colorbar\":{\"outlinewidth\":0,\"ticks\":\"\"},\"colorscale\":[[0.0,\"#0d0887\"],[0.1111111111111111,\"#46039f\"],[0.2222222222222222,\"#7201a8\"],[0.3333333333333333,\"#9c179e\"],[0.4444444444444444,\"#bd3786\"],[0.5555555555555556,\"#d8576b\"],[0.6666666666666666,\"#ed7953\"],[0.7777777777777778,\"#fb9f3a\"],[0.8888888888888888,\"#fdca26\"],[1.0,\"#f0f921\"]],\"type\":\"contour\"}],\"heatmapgl\":[{\"colorbar\":{\"outlinewidth\":0,\"ticks\":\"\"},\"colorscale\":[[0.0,\"#0d0887\"],[0.1111111111111111,\"#46039f\"],[0.2222222222222222,\"#7201a8\"],[0.3333333333333333,\"#9c179e\"],[0.4444444444444444,\"#bd3786\"],[0.5555555555555556,\"#d8576b\"],[0.6666666666666666,\"#ed7953\"],[0.7777777777777778,\"#fb9f3a\"],[0.8888888888888888,\"#fdca26\"],[1.0,\"#f0f921\"]],\"type\":\"heatmapgl\"}],\"heatmap\":[{\"colorbar\":{\"outlinewidth\":0,\"ticks\":\"\"},\"colorscale\":[[0.0,\"#0d0887\"],[0.1111111111111111,\"#46039f\"],[0.2222222222222222,\"#7201a8\"],[0.3333333333333333,\"#9c179e\"],[0.4444444444444444,\"#bd3786\"],[0.5555555555555556,\"#d8576b\"],[0.6666666666666666,\"#ed7953\"],[0.7777777777777778,\"#fb9f3a\"],[0.8888888888888888,\"#fdca26\"],[1.0,\"#f0f921\"]],\"type\":\"heatmap\"}],\"histogram2dcontour\":[{\"colorbar\":{\"outlinewidth\":0,\"ticks\":\"\"},\"colorscale\":[[0.0,\"#0d0887\"],[0.1111111111111111,\"#46039f\"],[0.2222222222222222,\"#7201a8\"],[0.3333333333333333,\"#9c179e\"],[0.4444444444444444,\"#bd3786\"],[0.5555555555555556,\"#d8576b\"],[0.6666666666666666,\"#ed7953\"],[0.7777777777777778,\"#fb9f3a\"],[0.8888888888888888,\"#fdca26\"],[1.0,\"#f0f921\"]],\"type\":\"histogram2dcontour\"}],\"histogram2d\":[{\"colorbar\":{\"outlinewidth\":0,\"ticks\":\"\"},\"colorscale\":[[0.0,\"#0d0887\"],[0.1111111111111111,\"#46039f\"],[0.2222222222222222,\"#7201a8\"],[0.3333333333333333,\"#9c179e\"],[0.4444444444444444,\"#bd3786\"],[0.5555555555555556,\"#d8576b\"],[0.6666666666666666,\"#ed7953\"],[0.7777777777777778,\"#fb9f3a\"],[0.8888888888888888,\"#fdca26\"],[1.0,\"#f0f921\"]],\"type\":\"histogram2d\"}],\"histogram\":[{\"marker\":{\"pattern\":{\"fillmode\":\"overlay\",\"size\":10,\"solidity\":0.2}},\"type\":\"histogram\"}],\"mesh3d\":[{\"colorbar\":{\"outlinewidth\":0,\"ticks\":\"\"},\"type\":\"mesh3d\"}],\"parcoords\":[{\"line\":{\"colorbar\":{\"outlinewidth\":0,\"ticks\":\"\"}},\"type\":\"parcoords\"}],\"pie\":[{\"automargin\":true,\"type\":\"pie\"}],\"scatter3d\":[{\"line\":{\"colorbar\":{\"outlinewidth\":0,\"ticks\":\"\"}},\"marker\":{\"colorbar\":{\"outlinewidth\":0,\"ticks\":\"\"}},\"type\":\"scatter3d\"}],\"scattercarpet\":[{\"marker\":{\"colorbar\":{\"outlinewidth\":0,\"ticks\":\"\"}},\"type\":\"scattercarpet\"}],\"scattergeo\":[{\"marker\":{\"colorbar\":{\"outlinewidth\":0,\"ticks\":\"\"}},\"type\":\"scattergeo\"}],\"scattergl\":[{\"marker\":{\"colorbar\":{\"outlinewidth\":0,\"ticks\":\"\"}},\"type\":\"scattergl\"}],\"scattermapbox\":[{\"marker\":{\"colorbar\":{\"outlinewidth\":0,\"ticks\":\"\"}},\"type\":\"scattermapbox\"}],\"scatterpolargl\":[{\"marker\":{\"colorbar\":{\"outlinewidth\":0,\"ticks\":\"\"}},\"type\":\"scatterpolargl\"}],\"scatterpolar\":[{\"marker\":{\"colorbar\":{\"outlinewidth\":0,\"ticks\":\"\"}},\"type\":\"scatterpolar\"}],\"scatter\":[{\"fillpattern\":{\"fillmode\":\"overlay\",\"size\":10,\"solidity\":0.2},\"type\":\"scatter\"}],\"scatterternary\":[{\"marker\":{\"colorbar\":{\"outlinewidth\":0,\"ticks\":\"\"}},\"type\":\"scatterternary\"}],\"surface\":[{\"colorbar\":{\"outlinewidth\":0,\"ticks\":\"\"},\"colorscale\":[[0.0,\"#0d0887\"],[0.1111111111111111,\"#46039f\"],[0.2222222222222222,\"#7201a8\"],[0.3333333333333333,\"#9c179e\"],[0.4444444444444444,\"#bd3786\"],[0.5555555555555556,\"#d8576b\"],[0.6666666666666666,\"#ed7953\"],[0.7777777777777778,\"#fb9f3a\"],[0.8888888888888888,\"#fdca26\"],[1.0,\"#f0f921\"]],\"type\":\"surface\"}],\"table\":[{\"cells\":{\"fill\":{\"color\":\"#EBF0F8\"},\"line\":{\"color\":\"white\"}},\"header\":{\"fill\":{\"color\":\"#C8D4E3\"},\"line\":{\"color\":\"white\"}},\"type\":\"table\"}]},\"layout\":{\"annotationdefaults\":{\"arrowcolor\":\"#2a3f5f\",\"arrowhead\":0,\"arrowwidth\":1},\"autotypenumbers\":\"strict\",\"coloraxis\":{\"colorbar\":{\"outlinewidth\":0,\"ticks\":\"\"}},\"colorscale\":{\"diverging\":[[0,\"#8e0152\"],[0.1,\"#c51b7d\"],[0.2,\"#de77ae\"],[0.3,\"#f1b6da\"],[0.4,\"#fde0ef\"],[0.5,\"#f7f7f7\"],[0.6,\"#e6f5d0\"],[0.7,\"#b8e186\"],[0.8,\"#7fbc41\"],[0.9,\"#4d9221\"],[1,\"#276419\"]],\"sequential\":[[0.0,\"#0d0887\"],[0.1111111111111111,\"#46039f\"],[0.2222222222222222,\"#7201a8\"],[0.3333333333333333,\"#9c179e\"],[0.4444444444444444,\"#bd3786\"],[0.5555555555555556,\"#d8576b\"],[0.6666666666666666,\"#ed7953\"],[0.7777777777777778,\"#fb9f3a\"],[0.8888888888888888,\"#fdca26\"],[1.0,\"#f0f921\"]],\"sequentialminus\":[[0.0,\"#0d0887\"],[0.1111111111111111,\"#46039f\"],[0.2222222222222222,\"#7201a8\"],[0.3333333333333333,\"#9c179e\"],[0.4444444444444444,\"#bd3786\"],[0.5555555555555556,\"#d8576b\"],[0.6666666666666666,\"#ed7953\"],[0.7777777777777778,\"#fb9f3a\"],[0.8888888888888888,\"#fdca26\"],[1.0,\"#f0f921\"]]},\"colorway\":[\"#636efa\",\"#EF553B\",\"#00cc96\",\"#ab63fa\",\"#FFA15A\",\"#19d3f3\",\"#FF6692\",\"#B6E880\",\"#FF97FF\",\"#FECB52\"],\"font\":{\"color\":\"#2a3f5f\"},\"geo\":{\"bgcolor\":\"white\",\"lakecolor\":\"white\",\"landcolor\":\"#E5ECF6\",\"showlakes\":true,\"showland\":true,\"subunitcolor\":\"white\"},\"hoverlabel\":{\"align\":\"left\"},\"hovermode\":\"closest\",\"mapbox\":{\"style\":\"light\"},\"paper_bgcolor\":\"white\",\"plot_bgcolor\":\"#E5ECF6\",\"polar\":{\"angularaxis\":{\"gridcolor\":\"white\",\"linecolor\":\"white\",\"ticks\":\"\"},\"bgcolor\":\"#E5ECF6\",\"radialaxis\":{\"gridcolor\":\"white\",\"linecolor\":\"white\",\"ticks\":\"\"}},\"scene\":{\"xaxis\":{\"backgroundcolor\":\"#E5ECF6\",\"gridcolor\":\"white\",\"gridwidth\":2,\"linecolor\":\"white\",\"showbackground\":true,\"ticks\":\"\",\"zerolinecolor\":\"white\"},\"yaxis\":{\"backgroundcolor\":\"#E5ECF6\",\"gridcolor\":\"white\",\"gridwidth\":2,\"linecolor\":\"white\",\"showbackground\":true,\"ticks\":\"\",\"zerolinecolor\":\"white\"},\"zaxis\":{\"backgroundcolor\":\"#E5ECF6\",\"gridcolor\":\"white\",\"gridwidth\":2,\"linecolor\":\"white\",\"showbackground\":true,\"ticks\":\"\",\"zerolinecolor\":\"white\"}},\"shapedefaults\":{\"line\":{\"color\":\"#2a3f5f\"}},\"ternary\":{\"aaxis\":{\"gridcolor\":\"white\",\"linecolor\":\"white\",\"ticks\":\"\"},\"baxis\":{\"gridcolor\":\"white\",\"linecolor\":\"white\",\"ticks\":\"\"},\"bgcolor\":\"#E5ECF6\",\"caxis\":{\"gridcolor\":\"white\",\"linecolor\":\"white\",\"ticks\":\"\"}},\"title\":{\"x\":0.05},\"xaxis\":{\"automargin\":true,\"gridcolor\":\"white\",\"linecolor\":\"white\",\"ticks\":\"\",\"title\":{\"standoff\":15},\"zerolinecolor\":\"white\",\"zerolinewidth\":2},\"yaxis\":{\"automargin\":true,\"gridcolor\":\"white\",\"linecolor\":\"white\",\"ticks\":\"\",\"title\":{\"standoff\":15},\"zerolinecolor\":\"white\",\"zerolinewidth\":2}}},\"title\":{\"text\":\"Precision-Recall Curve\"},\"xaxis\":{\"title\":{\"text\":\"Recall\"}},\"yaxis\":{\"title\":{\"text\":\"Precision\"}}},                        {\"responsive\": true}                    ).then(function(){\n",
       "                            \n",
       "var gd = document.getElementById('6f3fcc79-7c26-441c-8ab1-5bed13b72443');\n",
       "var x = new MutationObserver(function (mutations, observer) {{\n",
       "        var display = window.getComputedStyle(gd).display;\n",
       "        if (!display || display === 'none') {{\n",
       "            console.log([gd, 'removed!']);\n",
       "            Plotly.purge(gd);\n",
       "            observer.disconnect();\n",
       "        }}\n",
       "}});\n",
       "\n",
       "// Listen for the removal of the full notebook cells\n",
       "var notebookContainer = gd.closest('#notebook-container');\n",
       "if (notebookContainer) {{\n",
       "    x.observe(notebookContainer, {childList: true});\n",
       "}}\n",
       "\n",
       "// Listen for the clearing of the current output cell\n",
       "var outputEl = gd.closest('.output');\n",
       "if (outputEl) {{\n",
       "    x.observe(outputEl, {childList: true});\n",
       "}}\n",
       "\n",
       "                        })                };                });            </script>        </div>"
      ]
     },
     "metadata": {},
     "output_type": "display_data"
    }
   ],
   "source": [
    "import plotly.graph_objs as go\n",
    "from plotly.offline import init_notebook_mode, iplot\n",
    "from sklearn.metrics import precision_recall_curve\n",
    "\n",
    "# Initialize\n",
    "init_notebook_mode(connected=True) \n",
    "fig = go.Figure()\n",
    "\n",
    "# Model 1\n",
    "y_scores = model.predict_proba(X_train)[:, 1]\n",
    "model_precisions, model_recalls, model_thresholds = precision_recall_curve(y_true, y_scores)\n",
    "model_thresholds = np.append(model_thresholds, [1.])\n",
    "df1 = pd.DataFrame({'precision': model_precisions, 'recall': model_recalls, 'threshold': model_thresholds})\n",
    "trace1 = go.Scatter(x=df1['recall'], y=df1['precision'], name='Model 1', mode='lines', hovertext=df1['threshold'],\n",
    "                    hovertemplate='Precision=%{y}<br>Recall=%{x}<br>Threshold=%{hovertext}')\n",
    "\n",
    "# Model 2\n",
    "y_scores2 = model2.predict_proba(X_train2)[:, 1]\n",
    "model_precisions2, model_recalls2, model_thresholds2 = precision_recall_curve(y_true2, y_scores2)\n",
    "model_thresholds2 = np.append(model_thresholds2, [1.])\n",
    "df2 = pd.DataFrame({'precision': model_precisions2, 'recall': model_recalls2, 'threshold': model_thresholds2})\n",
    "trace2 = go.Scatter(x=df2['recall'], y=df2['precision'], name='Model 2', mode='lines', hovertext=df2['threshold'],\n",
    "                    hovertemplate='Precision=%{y}<br>Recall=%{x}<br>Threshold=%{hovertext}')\n",
    "\n",
    "layout = go.Layout(title='Precision-Recall Curve',\n",
    "                   xaxis=dict(title='Recall'),\n",
    "                   yaxis=dict(title='Precision'))\n",
    "\n",
    "fig = go.Figure(data=[trace1, trace2], layout=layout)\n",
    "fig.layout.update(hovermode='closest')\n",
    "\n",
    "iplot(fig)"
   ]
  },
  {
   "cell_type": "markdown",
   "metadata": {
    "pycharm": {
     "name": "#%% md\n"
    }
   },
   "source": [
    "## Question 3b\n",
    "Below is a function that computes the `F1` score given a threshold. When we calculated the `F1` score in Question 3a, we used a default threshold value of `0.5`."
   ]
  },
  {
   "cell_type": "code",
   "execution_count": 173,
   "metadata": {
    "pycharm": {
     "name": "#%%\n"
    }
   },
   "outputs": [],
   "source": [
    "def f1_threshold(y_true, y_pred_proba, threshold):\n",
    "    \n",
    "    \"\"\"\n",
    "    Returns the F-beta score.\n",
    "\n",
    "    Parameters:\n",
    "        y_true (1D numpy array): 1D array of true binary labels \n",
    "                                 np.array([0, 1, 0, 0, ..]).\n",
    "        y_pred_proba (1D numpy array): 1D array of prediction probabilities \n",
    "                                       for the positive class\n",
    "                                       (model.predict_proba(X)[:, 1])\n",
    "                                       np.array([0.12, 0.56, 0.23, 0.89, ..]).\n",
    "        threshold (float): The probability threshold, which is a number \n",
    "                           between 0 and 1.\n",
    "\n",
    "    Returns:\n",
    "        (float): The F1 score given a threshold.\n",
    "    \"\"\"\n",
    "    \n",
    "    # Calculate the binary predictions\n",
    "    y_pred = (y_pred_proba >= threshold).astype(int)\n",
    "    \n",
    "    return f_beta(y_true, y_pred, beta=1)"
   ]
  },
  {
   "cell_type": "code",
   "execution_count": 175,
   "metadata": {
    "pycharm": {
     "name": "#%%\n"
    }
   },
   "outputs": [],
   "source": [
    "def count_true_positives(y_true, y_pred):\n",
    "    return np.sum(np.logical_and(y_pred == 1, y_true == 1))\n",
    "\n",
    "def count_false_positives(y_true, y_pred):\n",
    "    return np.sum(np.logical_and(y_pred == 1, y_true == 0))\n",
    "\n",
    "def count_false_negatives(y_true, y_pred):\n",
    "    return np.sum(np.logical_and(y_pred == 0, y_true == 1))\n",
    "\n",
    "def f1_threshold(y_true, y_pred_proba, threshold):\n",
    "    \"\"\"\n",
    "    Calculate the F1 score given a threshold on predicted probabilities.\n",
    "\n",
    "    Parameters:\n",
    "        y_true (1D numpy array): True binary labels.\n",
    "        y_pred_proba (1D numpy array): Predicted probabilities for the positive class.\n",
    "        threshold (float): The probability threshold to convert probabilities to binary predictions.\n",
    "\n",
    "    Returns:\n",
    "        float: The F1 score.\n",
    "    \"\"\"\n",
    "    # Convert probabilities to binary predictions based on the threshold\n",
    "    y_pred = (y_pred_proba >= threshold).astype(int)\n",
    "\n",
    "    # Calculate true positives, false positives, and false negatives\n",
    "    tp = count_true_positives(y_true, y_pred)\n",
    "    fp = count_false_positives(y_true, y_pred)\n",
    "    fn = count_false_negatives(y_true, y_pred)\n",
    "\n",
    "    # Calculate precision and recall\n",
    "    precision = tp / (tp + fp) if (tp + fp) > 0 else 0.0\n",
    "    recall = tp / (tp + fn) if (tp + fn) > 0 else 0.0\n",
    "\n",
    "    # Calculate F1 score\n",
    "    if precision + recall == 0:\n",
    "        return 0.0\n",
    "    f1_score = 2 * (precision * recall) / (precision + recall)\n",
    "    \n",
    "    return f1_score\n",
    "\n",
    "def plot_f1_threshold(X, y, model):\n",
    "    \"\"\"\n",
    "    Plots the F1 score against varying thresholds and displays the precision-recall curve.\n",
    "\n",
    "    Parameters:\n",
    "        X (array-like): Feature set for the model.\n",
    "        y (1D numpy array): 1D array of true binary labels \n",
    "                            np.array([0, 1, 0, 0, ..]).\n",
    "        model: A trained model with a predict_proba method to get probabilities for the positive class.\n",
    "    \"\"\"\n",
    "    \n",
    "    # Create threshold array\n",
    "    thresholds = np.arange(0, 1, 0.01)\n",
    "    \n",
    "    # Compute F1 scores for each threshold\n",
    "    f1_scores = np.array([f1_threshold(y.values.flatten(), model.predict_proba(X)[:, 1], threshold) \n",
    "                          for threshold in thresholds])\n",
    "    \n",
    "    # Get finite values\n",
    "    finite_mask = np.isfinite(f1_scores)\n",
    "    thresholds = thresholds[finite_mask]\n",
    "    f1_scores = f1_scores[finite_mask]\n",
    "    \n",
    "    # Optimal values\n",
    "    idx = np.argmax(f1_scores)\n",
    "    f1_score = f1_scores[idx]\n",
    "    optimal_threshold = thresholds[idx]\n",
    "\n",
    "    # Plot F1 scores\n",
    "    fig = plt.figure(figsize=(12, 4))\n",
    "    fig.subplots_adjust(wspace=0.2, hspace=0)\n",
    "    ax1 = plt.subplot2grid((1, 2), (0, 0))\n",
    "    ax2 = plt.subplot2grid((1, 2), (0, 1))\n",
    "    ax1.set_title('Optimal F1 score is {:.2f} for a threshold of {:.2f}.'.format(f1_score, optimal_threshold), fontsize=12)\n",
    "    ax1.plot(thresholds, f1_scores, '.-')\n",
    "    ax1.axvline(x=optimal_threshold, color='r', linestyle='--', label='Optimal F1 Threshold')\n",
    "    ax1.legend()\n",
    "    ax1.set_xlabel('Threshold')\n",
    "    ax1.set_ylabel('F1 Score')\n",
    "    ax1.set_xlim([0, 1])\n",
    "    ax1.set_ylim([0, 1])\n",
    "    \n",
    "    # Get PR curve\n",
    "    prc_precisions, prc_recalls, prc_thresholds = precision_recall_curve(y.values.flatten(), model.predict_proba(X)[:, 1])\n",
    "    precision_opt = precision(y.values.flatten(), (model.predict_proba(X)[:, 1] >= optimal_threshold).astype(int))\n",
    "    recall_opt = recall(y.values.flatten(), (model.predict_proba(X)[:, 1] >= optimal_threshold).astype(int))\n",
    "    \n",
    "    # Plot PR curve\n",
    "    ax2.set_title('Optimal Precision is {:.2f} and Recall is {:.2f}.'.format(precision_opt, recall_opt), fontsize=12)\n",
    "    ax2.plot(prc_recalls, prc_precisions, label='Precision-Recall Curve')\n",
    "    ax2.plot(recall_opt, precision_opt, 'o', color='red', label='Optimal PR Point')\n",
    "    ax2.legend()\n",
    "    ax2.set_xlabel('Recall')\n",
    "    ax2.set_ylabel('Precision')\n",
    "    ax2.set_xlim([0, 1])\n",
    "    ax2.set_ylim([0, 1])\n",
    "    \n",
    "    # Show plots\n",
    "    plt.show()"
   ]
  },
  {
   "cell_type": "markdown",
   "metadata": {
    "pycharm": {
     "name": "#%% md\n"
    }
   },
   "source": [
    "Above is a function called `plot_f1_threshold()`, which generates a plot of the `F1` score as a function of the threshold value and the `precision-recall` curve. Below, is an example if the function being used for model 1 with `X_train` and `y_train` ."
   ]
  },
  {
   "cell_type": "code",
   "execution_count": 177,
   "metadata": {
    "pycharm": {
     "name": "#%%\n"
    }
   },
   "outputs": [
    {
     "data": {
      "image/png": "[encoded data removed]",
      "text/plain": [
       "<Figure size 1200x400 with 2 Axes>"
      ]
     },
     "metadata": {},
     "output_type": "display_data"
    }
   ],
   "source": [
    "plot_f1_threshold(X_train, y_train, model)"
   ]
  },
  {
   "cell_type": "markdown",
   "metadata": {
    "pycharm": {
     "name": "#%% md\n"
    }
   },
   "source": [
    "For this question, you're task is to find the optimal `threshold`, `F1`, `precision` and `recall` for `model2`. You'll remember that `model2` uses features for these words `['body', 'business', 'html', 'money', 'offer', 'please']` (see variable `words2`).\n",
    "\n",
    "First, which datset should you use to pick the optimal threshold (`train` or `val`), please explain your decision."
   ]
  },
  {
   "cell_type": "markdown",
   "metadata": {
    "pycharm": {
     "name": "#%% md\n"
    }
   },
   "source": [
    "To pick the optimal threshold for model2, I would use the validation dataset (val), because;\n",
    "\n",
    "1. Overfitting prevention: Using the training dataset (train) to determine the optimal threshold could lead to overfitting. The model may become too specialized to the training data and not generalize well to new, unseen data.\n",
    "2. Unbiased evaluation: The validation dataset provides an unbiased evaluation of the model's performance. It simulates how the model will perform on new data, allowing us to estimate its true performance."
   ]
  },
  {
   "cell_type": "markdown",
   "metadata": {
    "pycharm": {
     "name": "#%% md\n"
    }
   },
   "source": [
    "Next, use `plot_f1_threshold()` to find the optimal `threshold`, `F1`, `precision` and `recall` for `model2`."
   ]
  },
  {
   "cell_type": "code",
   "execution_count": 179,
   "metadata": {
    "pycharm": {
     "name": "#%%\n"
    }
   },
   "outputs": [
    {
     "data": {
      "image/png": "[encoded data removed]",
      "text/plain": [
       "<Figure size 1200x400 with 2 Axes>"
      ]
     },
     "metadata": {},
     "output_type": "display_data"
    }
   ],
   "source": [
    "# The val data is split into X and y values\n",
    "X_val = word_detector(words2, val['email'])\n",
    "y_val = val[['label']]\n",
    "\n",
    "# The plotting function is used to find the f1 threshold\n",
    "plot_f1_threshold(X_val, y_val, model2)"
   ]
  },
  {
   "cell_type": "markdown",
   "metadata": {
    "pycharm": {
     "name": "#%% md\n"
    }
   },
   "source": [
    "Next, let's print `F1`, `precision` and `recall` scores using the default `0.5` `threshold`. "
   ]
  },
  {
   "cell_type": "code",
   "execution_count": 181,
   "metadata": {
    "pycharm": {
     "name": "#%%\n"
    }
   },
   "outputs": [
    {
     "name": "stdout",
     "output_type": "stream",
     "text": [
      "Precision Score: 0.743\n",
      "Recall Score: 0.570\n",
      "<function f_beta at 0x0000023589A74900>\n",
      "<function precision at 0x000002358A92DE40>\n",
      "F1 Score: 0.645\n"
     ]
    }
   ],
   "source": [
    "print(\"Precision Score: {:.3f}\".format(precision(y_val.values.flatten(), model2.predict(X_val))))\n",
    "print(\"Recall Score: {:.3f}\".format(recall(y_val.values.flatten(), model2.predict(X_val))))\n",
    "print(\"F1 Score: {:.3f}\".format(f_beta(y_val.values.flatten(), model2.predict(X_val), beta=1)))"
   ]
  },
  {
   "cell_type": "markdown",
   "metadata": {
    "pycharm": {
     "name": "#%% md\n"
    }
   },
   "source": [
    "Lastly, reflect on the difference between the optimal values and those using the default `threshold` of `0.5`. Would you use the default on your next project?\n",
    "\n",
    "For the next project, the default value should not be used if using the same model. If the model changes (i.e. different classifiers) the process above must be repeated."
   ]
  }
 ],
 "metadata": {
  "kernelspec": {
   "display_name": "Python 3 (ipykernel)",
   "language": "python",
   "name": "python3"
  },
  "language_info": {
   "codemirror_mode": {
    "name": "ipython",
    "version": 3
   },
   "file_extension": ".py",
   "mimetype": "text/x-python",
   "name": "python",
   "nbconvert_exporter": "python",
   "pygments_lexer": "ipython3",
   "version": "3.12.4"
  }
 },
 "nbformat": 4,
 "nbformat_minor": 4
}
